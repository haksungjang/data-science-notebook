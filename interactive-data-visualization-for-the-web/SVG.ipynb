{
 "cells": [
  {
   "cell_type": "markdown",
   "metadata": {},
   "source": [
    "# SVG Sample Shapes"
   ]
  },
  {
   "cell_type": "code",
   "execution_count": 9,
   "metadata": {},
   "outputs": [
    {
     "data": {
      "image/svg+xml": [
       "<svg height=\"100\" width=\"100\">\n",
       "    <circle cx=\"50\" cy=\"50\" fill=\"blue\" r=\"40\" stroke=\"red\" stroke-width=\"5\"/>\n",
       "</svg>"
      ],
      "text/plain": [
       "<IPython.core.display.SVG object>"
      ]
     },
     "metadata": {},
     "output_type": "display_data"
    }
   ],
   "source": [
    "%%svg\n",
    "\n",
    "<svg width=\"100\" height=\"100\">\n",
    "    <circle cx=\"50\" cy=\"50\" r=\"40\" fill=\"blue\" stroke=\"red\" stroke-width=\"5\"/>\n",
    "</svg>"
   ]
  },
  {
   "cell_type": "code",
   "execution_count": 14,
   "metadata": {},
   "outputs": [
    {
     "data": {
      "image/svg+xml": [
       "<svg>\n",
       "    <rect height=\"50\" width=\"500\" x=\"0\" y=\"0\"/>\n",
       "</svg>"
      ],
      "text/plain": [
       "<IPython.core.display.SVG object>"
      ]
     },
     "metadata": {},
     "output_type": "display_data"
    }
   ],
   "source": [
    "%%svg\n",
    "<svg>\n",
    "    <rect x=\"0\" y=\"0\" width=\"500\" height=\"50\"/>\n",
    "</svg>"
   ]
  },
  {
   "cell_type": "code",
   "execution_count": 15,
   "metadata": {},
   "outputs": [
    {
     "data": {
      "image/svg+xml": [
       "<svg>\n",
       "    <circle cx=\"250\" cy=\"25\" r=\"25\"/>\n",
       "</svg>"
      ],
      "text/plain": [
       "<IPython.core.display.SVG object>"
      ]
     },
     "metadata": {},
     "output_type": "display_data"
    }
   ],
   "source": [
    "%%svg\n",
    "<svg>\n",
    "    <circle cx=\"250\" cy=\"25\" r=\"25\"/>\n",
    "</svg>"
   ]
  },
  {
   "cell_type": "code",
   "execution_count": 16,
   "metadata": {},
   "outputs": [
    {
     "data": {
      "image/svg+xml": [
       "<svg>\n",
       "    <ellipse cx=\"250\" cy=\"25\" rx=\"100\" ry=\"25\"/>\n",
       "</svg>"
      ],
      "text/plain": [
       "<IPython.core.display.SVG object>"
      ]
     },
     "metadata": {},
     "output_type": "display_data"
    }
   ],
   "source": [
    "%%svg\n",
    "<svg>\n",
    "    <ellipse cx=\"250\" cy=\"25\" rx=\"100\" ry=\"25\"/>\n",
    "</svg>"
   ]
  },
  {
   "cell_type": "code",
   "execution_count": 17,
   "metadata": {},
   "outputs": [
    {
     "data": {
      "image/svg+xml": [
       "<svg>\n",
       "    <line stroke=\"black\" x1=\"0\" x2=\"500\" y1=\"0\" y2=\"50\"/>\n",
       "</svg>"
      ],
      "text/plain": [
       "<IPython.core.display.SVG object>"
      ]
     },
     "metadata": {},
     "output_type": "display_data"
    }
   ],
   "source": [
    "%%svg\n",
    "<svg>\n",
    "    <line x1=\"0\" y1=\"0\" x2=\"500\" y2=\"50\" stroke=\"black\"/>\n",
    "</svg>"
   ]
  },
  {
   "cell_type": "code",
   "execution_count": 18,
   "metadata": {},
   "outputs": [
    {
     "data": {
      "image/svg+xml": [
       "<svg>\n",
       "    <text x=\"250\" y=\"25\">Easy-peasy</text>\n",
       "</svg>"
      ],
      "text/plain": [
       "<IPython.core.display.SVG object>"
      ]
     },
     "metadata": {},
     "output_type": "display_data"
    }
   ],
   "source": [
    "%%svg\n",
    "<svg>\n",
    "    <text x=\"250\" y=\"25\">Easy-peasy</text>\n",
    "</svg>\n"
   ]
  },
  {
   "cell_type": "code",
   "execution_count": 22,
   "metadata": {},
   "outputs": [
    {
     "data": {
      "image/svg+xml": [
       "<svg height=\"50\">\n",
       "    <text fill=\"gray\" font-family=\"serif\" font-size=\"25\" x=\"250\" y=\"50\">Easy-peasy</text>\n",
       "</svg>"
      ],
      "text/plain": [
       "<IPython.core.display.SVG object>"
      ]
     },
     "metadata": {},
     "output_type": "display_data"
    }
   ],
   "source": [
    "%%svg\n",
    "<svg  height=\"50\">\n",
    "    <text x=\"250\" y=\"50\" font-family=\"serif\" font-size=\"25\"\n",
    "fill=\"gray\">Easy-peasy</text>\n",
    "</svg>"
   ]
  },
  {
   "cell_type": "markdown",
   "metadata": {},
   "source": [
    "# SVG Sample Styling\n",
    "- Styling is done either \n",
    "    1. directly (inline) as an attribute of the element\n",
    "    2. with a CSS style rule"
   ]
  },
  {
   "cell_type": "code",
   "execution_count": 28,
   "metadata": {},
   "outputs": [
    {
     "data": {
      "image/svg+xml": [
       "<svg height=\"50\">\n",
       "   <circle cx=\"25\" cy=\"25\" fill=\"yellow\" r=\"22\" stroke=\"orange\" stroke-width=\"5\"/>\n",
       "</svg>"
      ],
      "text/plain": [
       "<IPython.core.display.SVG object>"
      ]
     },
     "metadata": {},
     "output_type": "display_data"
    }
   ],
   "source": [
    "%%svg\n",
    "<svg  height=\"50\">\n",
    "   <circle cx=\"25\" cy=\"25\" r=\"22\"\n",
    "fill=\"yellow\" stroke=\"orange\" stroke-width=\"5\"/>\n",
    "</svg>"
   ]
  },
  {
   "cell_type": "code",
   "execution_count": 43,
   "metadata": {},
   "outputs": [
    {
     "data": {
      "text/html": [
       "<style>\n",
       "svg .pumpkin {\n",
       "    fill: pink;\n",
       "    stroke: indigo;\n",
       "    stroke-width: 5;\n",
       "}\n",
       "</style>\n"
      ],
      "text/plain": [
       "<IPython.core.display.HTML object>"
      ]
     },
     "metadata": {},
     "output_type": "display_data"
    }
   ],
   "source": [
    "%%html\n",
    "<style>\n",
    "svg .pumpkin {\n",
    "    fill: pink;\n",
    "    stroke: indigo;\n",
    "    stroke-width: 5;\n",
    "}\n",
    "</style>"
   ]
  },
  {
   "cell_type": "code",
   "execution_count": 44,
   "metadata": {},
   "outputs": [
    {
     "data": {
      "image/svg+xml": [
       "<svg height=\"50\">\n",
       "   <circle class=\"pumpkin\" cx=\"25\" cy=\"25\" r=\"22\"/>\n",
       "</svg>"
      ],
      "text/plain": [
       "<IPython.core.display.SVG object>"
      ]
     },
     "metadata": {},
     "output_type": "display_data"
    }
   ],
   "source": [
    "%%svg\n",
    "<svg  height=\"50\">\n",
    "   <circle cx=\"25\" cy=\"25\" r=\"22\" class=\"pumpkin\"/>\n",
    "</svg>"
   ]
  },
  {
   "cell_type": "code",
   "execution_count": 46,
   "metadata": {},
   "outputs": [
    {
     "data": {
      "image/svg+xml": [
       "<svg>\n",
       "    <rect fill=\"purple\" height=\"30\" width=\"30\" x=\"0\" y=\"0\"/>\n",
       "    <rect fill=\"blue\" height=\"30\" width=\"30\" x=\"20\" y=\"5\"/>\n",
       "    <rect fill=\"green\" height=\"30\" width=\"30\" x=\"40\" y=\"10\"/>\n",
       "    <rect fill=\"yellow\" height=\"30\" width=\"30\" x=\"60\" y=\"15\"/>\n",
       "    <rect fill=\"red\" height=\"30\" width=\"30\" x=\"80\" y=\"20\"/>\n",
       "</svg>"
      ],
      "text/plain": [
       "<IPython.core.display.SVG object>"
      ]
     },
     "metadata": {},
     "output_type": "display_data"
    }
   ],
   "source": [
    "%%svg\n",
    "<svg>\n",
    "    <rect x=\"0\" y=\"0\" width=\"30\" height=\"30\" fill=\"purple\"/>\n",
    "    <rect x=\"20\" y=\"5\" width=\"30\" height=\"30\" fill=\"blue\"/>\n",
    "    <rect x=\"40\" y=\"10\" width=\"30\" height=\"30\" fill=\"green\"/>\n",
    "    <rect x=\"60\" y=\"15\" width=\"30\" height=\"30\" fill=\"yellow\"/>\n",
    "    <rect x=\"80\" y=\"20\" width=\"30\" height=\"30\" fill=\"red\"/>\n",
    "</svg>"
   ]
  },
  {
   "cell_type": "code",
   "execution_count": 47,
   "metadata": {},
   "outputs": [
    {
     "data": {
      "image/svg+xml": [
       "<svg>\n",
       "    <circle cx=\"25\" cy=\"25\" fill=\"rgba(128, 0, 128, 1.0)\" r=\"20\"/>\n",
       "    <circle cx=\"50\" cy=\"25\" fill=\"rgba(0, 0, 255, 0.75)\" r=\"20\"/>\n",
       "    <circle cx=\"75\" cy=\"25\" fill=\"rgba(0, 255, 0, 0.5)\" r=\"20\"/>\n",
       "    <circle cx=\"100\" cy=\"25\" fill=\"rgba(255, 255, 0, 0.25)\" r=\"20\"/>\n",
       "    <circle cx=\"125\" cy=\"25\" fill=\"rgba(255, 0, 0, 0.1)\" r=\"20\"/>\n",
       "</svg>"
      ],
      "text/plain": [
       "<IPython.core.display.SVG object>"
      ]
     },
     "metadata": {},
     "output_type": "display_data"
    }
   ],
   "source": [
    "%%svg\n",
    "<svg>\n",
    "    <circle cx=\"25\" cy=\"25\" r=\"20\" fill=\"rgba(128, 0, 128, 1.0)\"/>\n",
    "    <circle cx=\"50\" cy=\"25\" r=\"20\" fill=\"rgba(0, 0, 255, 0.75)\"/>\n",
    "    <circle cx=\"75\" cy=\"25\" r=\"20\" fill=\"rgba(0, 255, 0, 0.5)\"/>\n",
    "    <circle cx=\"100\" cy=\"25\" r=\"20\" fill=\"rgba(255, 255, 0, 0.25)\"/>\n",
    "    <circle cx=\"125\" cy=\"25\" r=\"20\" fill=\"rgba(255, 0, 0, 0.1)\"/>\n",
    "</svg>"
   ]
  },
  {
   "cell_type": "code",
   "execution_count": 48,
   "metadata": {},
   "outputs": [
    {
     "data": {
      "image/svg+xml": [
       "<svg>\n",
       "    <circle cx=\"25\" cy=\"25\" fill=\"rgba(128, 0, 128, 0.75)\" r=\"20\" stroke=\"rgba(0, 255, 0, 0.25)\" stroke-width=\"10\"/>\n",
       "    <circle cx=\"65\" cy=\"25\" fill=\"rgba(128, 0, 128, 0.75)\" opacity=\"0.5\" r=\"20\" stroke=\"rgba(0, 255, 0, 0.25)\" stroke-width=\"10\"/>\n",
       "    <circle cx=\"105\" cy=\"25\" fill=\"rgba(128, 0, 128, 0.75)\" opacity=\"0.2\" r=\"20\" stroke=\"rgba(0, 255, 0, 0.25)\" stroke-width=\"10\"/>\n",
       "</svg>"
      ],
      "text/plain": [
       "<IPython.core.display.SVG object>"
      ]
     },
     "metadata": {},
     "output_type": "display_data"
    }
   ],
   "source": [
    "%%svg\n",
    "<svg>\n",
    "    <circle cx=\"25\" cy=\"25\" r=\"20\" fill=\"rgba(128, 0, 128, 0.75)\"\n",
    "stroke=\"rgba(0, 255, 0, 0.25)\" stroke-width=\"10\"/>\n",
    "    <circle cx=\"65\" cy=\"25\" r=\"20\" fill=\"rgba(128, 0, 128, 0.75)\"\n",
    "    stroke=\"rgba(0, 255, 0, 0.25)\" stroke-width=\"10\" opacity=\"0.5\"/>\n",
    "    <circle cx=\"105\" cy=\"25\" r=\"20\" fill=\"rgba(128, 0, 128, 0.75)\"\n",
    "    stroke=\"rgba(0, 255, 0, 0.25)\" stroke-width=\"10\" opacity=\"0.2\"/>\n",
    "</svg>"
   ]
  },
  {
   "cell_type": "code",
   "execution_count": null,
   "metadata": {},
   "outputs": [],
   "source": []
  }
 ],
 "metadata": {
  "kernelspec": {
   "display_name": "Python 3",
   "language": "python",
   "name": "python3"
  },
  "language_info": {
   "codemirror_mode": {
    "name": "ipython",
    "version": 3
   },
   "file_extension": ".py",
   "mimetype": "text/x-python",
   "name": "python",
   "nbconvert_exporter": "python",
   "pygments_lexer": "ipython3",
   "version": "3.6.9"
  }
 },
 "nbformat": 4,
 "nbformat_minor": 2
}
