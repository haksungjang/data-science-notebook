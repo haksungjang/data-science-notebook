{
 "cells": [
  {
   "cell_type": "markdown",
   "metadata": {},
   "source": [
    "# Chapter 1. Exploratory Data Analysis\n",
    "\n",
    "pages 14-51\n",
    "\n",
    "## History\n",
    "- Probability Theory (the mathematical foundation for statistics)\n",
    "    - developed in the  17th to 19th centuries\n",
    "    - Thomas Bayes, Pierre-Simon Laplace, Carl Gauss\n",
    "- Statistics\n",
    "    - applied science concerned with analysis and modeling of data\n",
    "    - Francis Galton and Karl Pearson\n",
    "- Modern Statistics\n",
    "    - roots back to 1800s \n",
    "    - R. A. Fisher (leading pioneer in the early 20th century)\n",
    "        - experimental design\n",
    "        - maximum likelihood estimation\n",
    "\n",
    "(A) Classical statistics vs (B) Exploratory data analysis [EDA] \n",
    "\n",
    "(A) focused almost exclusively on inference\n",
    "\n",
    "John W. Turkey in 1962\n",
    "- wrote a seminal paper called \"The Future of Data Analysis\"\n",
    "- proposed a new scientific discipline called _data analysis_\n",
    "- forged links to the engineering and computer science communities\n",
    "- coined the term 'bit'"
   ]
  },
  {
   "cell_type": "markdown",
   "metadata": {},
   "source": [
    "## Elements of Structured Data\n",
    "\n",
    "Sources\n",
    "- images\n",
    "- text\n",
    "- clickstreams\n",
    "\n",
    "### 2 basic types of structured data:\n",
    "1. numeric\n",
    "    1. continuous\n",
    "        - ex. wind speed, time duration, temperature\n",
    "    2. discrete\n",
    "        - ex. count of occurrence\n",
    "2. categorical\n",
    "    1. binary data (special case of categorical data)\n",
    "        - [0,1] [yes, no] [true, false]\n",
    "    2. ordinal data\n",
    "        - rating from 1-5\n",
    "        \n",
    "Why learn the taxonomy/classification of data types?\n",
    "- Data type is important to help determine the **type of visual display**, **data analysis**, or **statistical model**"
   ]
  },
  {
   "cell_type": "markdown",
   "metadata": {},
   "source": [
    "### Rectangular Data\n",
    "\n",
    "- Like a spreadsheet or database table\n",
    "- 2-dimensional matrix with rows/records and columns/features\n",
    "\n",
    "### Nonrectangular Data Structures\n",
    "- Time Series\n",
    "- Spatial data structures\n",
    "- Graph data structures\n",
    "\n",
    "---\n",
    "# Dimensions of summarizing a feature\n",
    "1. Location\n",
    "2. Variability (also known as dispersion)\n",
    "---\n",
    "\n",
    "## Metrics of Location/ Estimates of Location\n",
    "\n",
    "Goal: To find the best measure to describe the central value\n",
    "- Mean\n",
    "    - sum of all the values divided by the number of values.\n",
    "$$Mean = \\bar{x} = \\frac{\\sum_{i}^{n}{x_i}}{n}$$\n",
    "- Trimmed mean\n",
    "    - eliminates the influence of extreme values\n",
    "    - used in competitions (remove highest and lowest score)\n",
    "    - can be thought as a compromise between median and mean\n",
    "        - it is robust to extreme values in the data, but uses more data to calculate the estimate for location\n",
    "- Weighted Mean  \n",
    "    - 2 motivations for using this\n",
    "        - some values are intrinsically more variable than others leading to highly variable observations given a lower weight\n",
    "        - the data collected may have underrepresentation or overrepresentation\n",
    "<br>\n",
    "- Median\n",
    "    - is the middle number on a sorted list of the data\n",
    "    - robust to outliers\n",
    "- Weighted Median  \n",
    "    - is a value such that the sum of the weights is equal for the lower and upper halves of the sorted list\n",
    "    - robust to outliers\n",
    "- Outlier  "
   ]
  },
  {
   "cell_type": "markdown",
   "metadata": {},
   "source": [
    "---\n",
    "## R\n",
    "\n",
    "data.frame\n",
    "row.names\n",
    "\n",
    "data.frame - does not support user-specified ot multilevel indexes\n",
    "\n",
    "2 popular packages\n",
    "1. data.table\n",
    "2. dplyr\n",
    "---"
   ]
  },
  {
   "cell_type": "markdown",
   "metadata": {},
   "source": [
    "Example: Location of Estimates of Population and Murder Rates"
   ]
  },
  {
   "cell_type": "code",
   "execution_count": 36,
   "metadata": {},
   "outputs": [],
   "source": [
    "state <- read.csv(file=\"data/state.csv\")"
   ]
  },
  {
   "cell_type": "code",
   "execution_count": 1,
   "metadata": {},
   "outputs": [
    {
     "data": {
      "text/html": [
       "6162876.3"
      ],
      "text/latex": [
       "6162876.3"
      ],
      "text/markdown": [
       "6162876.3"
      ],
      "text/plain": [
       "[1] 6162876"
      ]
     },
     "metadata": {},
     "output_type": "display_data"
    }
   ],
   "source": [
    "\n",
    "mean(state[[\"Population\"]])"
   ]
  },
  {
   "cell_type": "code",
   "execution_count": 2,
   "metadata": {},
   "outputs": [
    {
     "data": {
      "text/html": [
       "4783697.125"
      ],
      "text/latex": [
       "4783697.125"
      ],
      "text/markdown": [
       "4783697.125"
      ],
      "text/plain": [
       "[1] 4783697"
      ]
     },
     "metadata": {},
     "output_type": "display_data"
    }
   ],
   "source": [
    "mean(state[[\"Population\"]], trim=0.1)\n",
    "# excludes the largest and smallest 5 states, drops 10% from each end"
   ]
  },
  {
   "cell_type": "code",
   "execution_count": 3,
   "metadata": {},
   "outputs": [
    {
     "data": {
      "text/html": [
       "4436369.5"
      ],
      "text/latex": [
       "4436369.5"
      ],
      "text/markdown": [
       "4436369.5"
      ],
      "text/plain": [
       "[1] 4436370"
      ]
     },
     "metadata": {},
     "output_type": "display_data"
    }
   ],
   "source": [
    "median(state[[\"Population\"]])"
   ]
  },
  {
   "cell_type": "code",
   "execution_count": 4,
   "metadata": {},
   "outputs": [
    {
     "data": {
      "text/html": [
       "<table>\n",
       "<thead><tr><th scope=col>State</th><th scope=col>Population</th><th scope=col>Murder.Rate</th><th scope=col>Abbreviation</th></tr></thead>\n",
       "<tbody>\n",
       "\t<tr><td>Alabama       </td><td> 4779736      </td><td> 5.7          </td><td>AL            </td></tr>\n",
       "\t<tr><td>Alaska        </td><td>  710231      </td><td> 5.6          </td><td>AK            </td></tr>\n",
       "\t<tr><td>Arizona       </td><td> 6392017      </td><td> 4.7          </td><td>AZ            </td></tr>\n",
       "\t<tr><td>Arkansas      </td><td> 2915918      </td><td> 5.6          </td><td>AR            </td></tr>\n",
       "\t<tr><td>California    </td><td>37253956      </td><td> 4.4          </td><td>CA            </td></tr>\n",
       "\t<tr><td>Colorado      </td><td> 5029196      </td><td> 2.8          </td><td>CO            </td></tr>\n",
       "\t<tr><td>Connecticut   </td><td> 3574097      </td><td> 2.4          </td><td>CT            </td></tr>\n",
       "\t<tr><td>Delaware      </td><td>  897934      </td><td> 5.8          </td><td>DE            </td></tr>\n",
       "\t<tr><td>Florida       </td><td>18801310      </td><td> 5.8          </td><td>FL            </td></tr>\n",
       "\t<tr><td>Georgia       </td><td> 9687653      </td><td> 5.7          </td><td>GA            </td></tr>\n",
       "\t<tr><td>Hawaii        </td><td> 1360301      </td><td> 1.8          </td><td>HI            </td></tr>\n",
       "\t<tr><td>Idaho         </td><td> 1567582      </td><td> 2.0          </td><td>ID            </td></tr>\n",
       "\t<tr><td>Illinois      </td><td>12830632      </td><td> 5.3          </td><td>IL            </td></tr>\n",
       "\t<tr><td>Indiana       </td><td> 6483802      </td><td> 5.0          </td><td>IN            </td></tr>\n",
       "\t<tr><td>Iowa          </td><td> 3046355      </td><td> 1.9          </td><td>IA            </td></tr>\n",
       "\t<tr><td>Kansas        </td><td> 2853118      </td><td> 3.1          </td><td>KS            </td></tr>\n",
       "\t<tr><td>Kentucky      </td><td> 4339367      </td><td> 3.6          </td><td>KY            </td></tr>\n",
       "\t<tr><td>Louisiana     </td><td> 4533372      </td><td>10.3          </td><td>LA            </td></tr>\n",
       "\t<tr><td>Maine         </td><td> 1328361      </td><td> 1.6          </td><td>ME            </td></tr>\n",
       "\t<tr><td>Maryland      </td><td> 5773552      </td><td> 6.1          </td><td>MD            </td></tr>\n",
       "\t<tr><td>Massachusetts </td><td> 6547629      </td><td> 2.0          </td><td>MA            </td></tr>\n",
       "\t<tr><td>Michigan      </td><td> 9883640      </td><td> 5.4          </td><td>MI            </td></tr>\n",
       "\t<tr><td>Minnesota     </td><td> 5303925      </td><td> 1.6          </td><td>MN            </td></tr>\n",
       "\t<tr><td>Mississippi   </td><td> 2967297      </td><td> 8.6          </td><td>MS            </td></tr>\n",
       "\t<tr><td>Missouri      </td><td> 5988927      </td><td> 6.6          </td><td>MO            </td></tr>\n",
       "\t<tr><td>Montana       </td><td>  989415      </td><td> 3.6          </td><td>MT            </td></tr>\n",
       "\t<tr><td>Nebraska      </td><td> 1826341      </td><td> 2.9          </td><td>NE            </td></tr>\n",
       "\t<tr><td>Nevada        </td><td> 2700551      </td><td> 6.0          </td><td>NV            </td></tr>\n",
       "\t<tr><td>New Hampshire </td><td> 1316470      </td><td> 0.9          </td><td>NH            </td></tr>\n",
       "\t<tr><td>New Jersey    </td><td> 8791894      </td><td> 3.9          </td><td>NJ            </td></tr>\n",
       "\t<tr><td>New Mexico    </td><td> 2059179      </td><td> 4.8          </td><td>NM            </td></tr>\n",
       "\t<tr><td>New York      </td><td>19378102      </td><td> 3.1          </td><td>NY            </td></tr>\n",
       "\t<tr><td>North Carolina</td><td> 9535483      </td><td> 5.1          </td><td>NC            </td></tr>\n",
       "\t<tr><td>North Dakota  </td><td>  672591      </td><td> 3.0          </td><td>ND            </td></tr>\n",
       "\t<tr><td>Ohio          </td><td>11536504      </td><td> 4.0          </td><td>OH            </td></tr>\n",
       "\t<tr><td>Oklahoma      </td><td> 3751351      </td><td> 4.5          </td><td>OK            </td></tr>\n",
       "\t<tr><td>Oregon        </td><td> 3831074      </td><td> 2.0          </td><td>OR            </td></tr>\n",
       "\t<tr><td>Pennsylvania  </td><td>12702379      </td><td> 4.8          </td><td>PA            </td></tr>\n",
       "\t<tr><td>Rhode Island  </td><td> 1052567      </td><td> 2.4          </td><td>RI            </td></tr>\n",
       "\t<tr><td>South Carolina</td><td> 4625364      </td><td> 6.4          </td><td>SC            </td></tr>\n",
       "\t<tr><td>South Dakota  </td><td>  814180      </td><td> 2.3          </td><td>SD            </td></tr>\n",
       "\t<tr><td>Tennessee     </td><td> 6346105      </td><td> 5.7          </td><td>TN            </td></tr>\n",
       "\t<tr><td>Texas         </td><td>25145561      </td><td> 4.4          </td><td>TX            </td></tr>\n",
       "\t<tr><td>Utah          </td><td> 2763885      </td><td> 2.3          </td><td>UT            </td></tr>\n",
       "\t<tr><td>Vermont       </td><td>  625741      </td><td> 1.6          </td><td>VT            </td></tr>\n",
       "\t<tr><td>Virginia      </td><td> 8001024      </td><td> 4.1          </td><td>VA            </td></tr>\n",
       "\t<tr><td>Washington    </td><td> 6724540      </td><td> 2.5          </td><td>WA            </td></tr>\n",
       "\t<tr><td>West Virginia </td><td> 1852994      </td><td> 4.0          </td><td>WV            </td></tr>\n",
       "\t<tr><td>Wisconsin     </td><td> 5686986      </td><td> 2.9          </td><td>WI            </td></tr>\n",
       "\t<tr><td>Wyoming       </td><td>  563626      </td><td> 2.7          </td><td>WY            </td></tr>\n",
       "</tbody>\n",
       "</table>\n"
      ],
      "text/latex": [
       "\\begin{tabular}{r|llll}\n",
       " State & Population & Murder.Rate & Abbreviation\\\\\n",
       "\\hline\n",
       "\t Alabama        &  4779736       &  5.7           & AL            \\\\\n",
       "\t Alaska         &   710231       &  5.6           & AK            \\\\\n",
       "\t Arizona        &  6392017       &  4.7           & AZ            \\\\\n",
       "\t Arkansas       &  2915918       &  5.6           & AR            \\\\\n",
       "\t California     & 37253956       &  4.4           & CA            \\\\\n",
       "\t Colorado       &  5029196       &  2.8           & CO            \\\\\n",
       "\t Connecticut    &  3574097       &  2.4           & CT            \\\\\n",
       "\t Delaware       &   897934       &  5.8           & DE            \\\\\n",
       "\t Florida        & 18801310       &  5.8           & FL            \\\\\n",
       "\t Georgia        &  9687653       &  5.7           & GA            \\\\\n",
       "\t Hawaii         &  1360301       &  1.8           & HI            \\\\\n",
       "\t Idaho          &  1567582       &  2.0           & ID            \\\\\n",
       "\t Illinois       & 12830632       &  5.3           & IL            \\\\\n",
       "\t Indiana        &  6483802       &  5.0           & IN            \\\\\n",
       "\t Iowa           &  3046355       &  1.9           & IA            \\\\\n",
       "\t Kansas         &  2853118       &  3.1           & KS            \\\\\n",
       "\t Kentucky       &  4339367       &  3.6           & KY            \\\\\n",
       "\t Louisiana      &  4533372       & 10.3           & LA            \\\\\n",
       "\t Maine          &  1328361       &  1.6           & ME            \\\\\n",
       "\t Maryland       &  5773552       &  6.1           & MD            \\\\\n",
       "\t Massachusetts  &  6547629       &  2.0           & MA            \\\\\n",
       "\t Michigan       &  9883640       &  5.4           & MI            \\\\\n",
       "\t Minnesota      &  5303925       &  1.6           & MN            \\\\\n",
       "\t Mississippi    &  2967297       &  8.6           & MS            \\\\\n",
       "\t Missouri       &  5988927       &  6.6           & MO            \\\\\n",
       "\t Montana        &   989415       &  3.6           & MT            \\\\\n",
       "\t Nebraska       &  1826341       &  2.9           & NE            \\\\\n",
       "\t Nevada         &  2700551       &  6.0           & NV            \\\\\n",
       "\t New Hampshire  &  1316470       &  0.9           & NH            \\\\\n",
       "\t New Jersey     &  8791894       &  3.9           & NJ            \\\\\n",
       "\t New Mexico     &  2059179       &  4.8           & NM            \\\\\n",
       "\t New York       & 19378102       &  3.1           & NY            \\\\\n",
       "\t North Carolina &  9535483       &  5.1           & NC            \\\\\n",
       "\t North Dakota   &   672591       &  3.0           & ND            \\\\\n",
       "\t Ohio           & 11536504       &  4.0           & OH            \\\\\n",
       "\t Oklahoma       &  3751351       &  4.5           & OK            \\\\\n",
       "\t Oregon         &  3831074       &  2.0           & OR            \\\\\n",
       "\t Pennsylvania   & 12702379       &  4.8           & PA            \\\\\n",
       "\t Rhode Island   &  1052567       &  2.4           & RI            \\\\\n",
       "\t South Carolina &  4625364       &  6.4           & SC            \\\\\n",
       "\t South Dakota   &   814180       &  2.3           & SD            \\\\\n",
       "\t Tennessee      &  6346105       &  5.7           & TN            \\\\\n",
       "\t Texas          & 25145561       &  4.4           & TX            \\\\\n",
       "\t Utah           &  2763885       &  2.3           & UT            \\\\\n",
       "\t Vermont        &   625741       &  1.6           & VT            \\\\\n",
       "\t Virginia       &  8001024       &  4.1           & VA            \\\\\n",
       "\t Washington     &  6724540       &  2.5           & WA            \\\\\n",
       "\t West Virginia  &  1852994       &  4.0           & WV            \\\\\n",
       "\t Wisconsin      &  5686986       &  2.9           & WI            \\\\\n",
       "\t Wyoming        &   563626       &  2.7           & WY            \\\\\n",
       "\\end{tabular}\n"
      ],
      "text/markdown": [
       "\n",
       "| State | Population | Murder.Rate | Abbreviation |\n",
       "|---|---|---|---|\n",
       "| Alabama        |  4779736       |  5.7           | AL             |\n",
       "| Alaska         |   710231       |  5.6           | AK             |\n",
       "| Arizona        |  6392017       |  4.7           | AZ             |\n",
       "| Arkansas       |  2915918       |  5.6           | AR             |\n",
       "| California     | 37253956       |  4.4           | CA             |\n",
       "| Colorado       |  5029196       |  2.8           | CO             |\n",
       "| Connecticut    |  3574097       |  2.4           | CT             |\n",
       "| Delaware       |   897934       |  5.8           | DE             |\n",
       "| Florida        | 18801310       |  5.8           | FL             |\n",
       "| Georgia        |  9687653       |  5.7           | GA             |\n",
       "| Hawaii         |  1360301       |  1.8           | HI             |\n",
       "| Idaho          |  1567582       |  2.0           | ID             |\n",
       "| Illinois       | 12830632       |  5.3           | IL             |\n",
       "| Indiana        |  6483802       |  5.0           | IN             |\n",
       "| Iowa           |  3046355       |  1.9           | IA             |\n",
       "| Kansas         |  2853118       |  3.1           | KS             |\n",
       "| Kentucky       |  4339367       |  3.6           | KY             |\n",
       "| Louisiana      |  4533372       | 10.3           | LA             |\n",
       "| Maine          |  1328361       |  1.6           | ME             |\n",
       "| Maryland       |  5773552       |  6.1           | MD             |\n",
       "| Massachusetts  |  6547629       |  2.0           | MA             |\n",
       "| Michigan       |  9883640       |  5.4           | MI             |\n",
       "| Minnesota      |  5303925       |  1.6           | MN             |\n",
       "| Mississippi    |  2967297       |  8.6           | MS             |\n",
       "| Missouri       |  5988927       |  6.6           | MO             |\n",
       "| Montana        |   989415       |  3.6           | MT             |\n",
       "| Nebraska       |  1826341       |  2.9           | NE             |\n",
       "| Nevada         |  2700551       |  6.0           | NV             |\n",
       "| New Hampshire  |  1316470       |  0.9           | NH             |\n",
       "| New Jersey     |  8791894       |  3.9           | NJ             |\n",
       "| New Mexico     |  2059179       |  4.8           | NM             |\n",
       "| New York       | 19378102       |  3.1           | NY             |\n",
       "| North Carolina |  9535483       |  5.1           | NC             |\n",
       "| North Dakota   |   672591       |  3.0           | ND             |\n",
       "| Ohio           | 11536504       |  4.0           | OH             |\n",
       "| Oklahoma       |  3751351       |  4.5           | OK             |\n",
       "| Oregon         |  3831074       |  2.0           | OR             |\n",
       "| Pennsylvania   | 12702379       |  4.8           | PA             |\n",
       "| Rhode Island   |  1052567       |  2.4           | RI             |\n",
       "| South Carolina |  4625364       |  6.4           | SC             |\n",
       "| South Dakota   |   814180       |  2.3           | SD             |\n",
       "| Tennessee      |  6346105       |  5.7           | TN             |\n",
       "| Texas          | 25145561       |  4.4           | TX             |\n",
       "| Utah           |  2763885       |  2.3           | UT             |\n",
       "| Vermont        |   625741       |  1.6           | VT             |\n",
       "| Virginia       |  8001024       |  4.1           | VA             |\n",
       "| Washington     |  6724540       |  2.5           | WA             |\n",
       "| West Virginia  |  1852994       |  4.0           | WV             |\n",
       "| Wisconsin      |  5686986       |  2.9           | WI             |\n",
       "| Wyoming        |   563626       |  2.7           | WY             |\n",
       "\n"
      ],
      "text/plain": [
       "   State          Population Murder.Rate Abbreviation\n",
       "1  Alabama         4779736    5.7        AL          \n",
       "2  Alaska           710231    5.6        AK          \n",
       "3  Arizona         6392017    4.7        AZ          \n",
       "4  Arkansas        2915918    5.6        AR          \n",
       "5  California     37253956    4.4        CA          \n",
       "6  Colorado        5029196    2.8        CO          \n",
       "7  Connecticut     3574097    2.4        CT          \n",
       "8  Delaware         897934    5.8        DE          \n",
       "9  Florida        18801310    5.8        FL          \n",
       "10 Georgia         9687653    5.7        GA          \n",
       "11 Hawaii          1360301    1.8        HI          \n",
       "12 Idaho           1567582    2.0        ID          \n",
       "13 Illinois       12830632    5.3        IL          \n",
       "14 Indiana         6483802    5.0        IN          \n",
       "15 Iowa            3046355    1.9        IA          \n",
       "16 Kansas          2853118    3.1        KS          \n",
       "17 Kentucky        4339367    3.6        KY          \n",
       "18 Louisiana       4533372   10.3        LA          \n",
       "19 Maine           1328361    1.6        ME          \n",
       "20 Maryland        5773552    6.1        MD          \n",
       "21 Massachusetts   6547629    2.0        MA          \n",
       "22 Michigan        9883640    5.4        MI          \n",
       "23 Minnesota       5303925    1.6        MN          \n",
       "24 Mississippi     2967297    8.6        MS          \n",
       "25 Missouri        5988927    6.6        MO          \n",
       "26 Montana          989415    3.6        MT          \n",
       "27 Nebraska        1826341    2.9        NE          \n",
       "28 Nevada          2700551    6.0        NV          \n",
       "29 New Hampshire   1316470    0.9        NH          \n",
       "30 New Jersey      8791894    3.9        NJ          \n",
       "31 New Mexico      2059179    4.8        NM          \n",
       "32 New York       19378102    3.1        NY          \n",
       "33 North Carolina  9535483    5.1        NC          \n",
       "34 North Dakota     672591    3.0        ND          \n",
       "35 Ohio           11536504    4.0        OH          \n",
       "36 Oklahoma        3751351    4.5        OK          \n",
       "37 Oregon          3831074    2.0        OR          \n",
       "38 Pennsylvania   12702379    4.8        PA          \n",
       "39 Rhode Island    1052567    2.4        RI          \n",
       "40 South Carolina  4625364    6.4        SC          \n",
       "41 South Dakota     814180    2.3        SD          \n",
       "42 Tennessee       6346105    5.7        TN          \n",
       "43 Texas          25145561    4.4        TX          \n",
       "44 Utah            2763885    2.3        UT          \n",
       "45 Vermont          625741    1.6        VT          \n",
       "46 Virginia        8001024    4.1        VA          \n",
       "47 Washington      6724540    2.5        WA          \n",
       "48 West Virginia   1852994    4.0        WV          \n",
       "49 Wisconsin       5686986    2.9        WI          \n",
       "50 Wyoming          563626    2.7        WY          "
      ]
     },
     "metadata": {},
     "output_type": "display_data"
    }
   ],
   "source": [
    "state"
   ]
  },
  {
   "cell_type": "markdown",
   "metadata": {},
   "source": [
    "If we want to compute the average murder rate for the country, we need to use a weighted mean or median to account for different populations in the states."
   ]
  },
  {
   "cell_type": "code",
   "execution_count": 5,
   "metadata": {},
   "outputs": [
    {
     "data": {
      "text/html": [
       "4.44583398112339"
      ],
      "text/latex": [
       "4.44583398112339"
      ],
      "text/markdown": [
       "4.44583398112339"
      ],
      "text/plain": [
       "[1] 4.445834"
      ]
     },
     "metadata": {},
     "output_type": "display_data"
    }
   ],
   "source": [
    "weighted.mean(state[[\"Murder.Rate\"]], w=state[[\"Population\"]])"
   ]
  },
  {
   "cell_type": "code",
   "execution_count": 6,
   "metadata": {},
   "outputs": [],
   "source": [
    "# install.packages(\"matrixStats\")"
   ]
  },
  {
   "cell_type": "code",
   "execution_count": 7,
   "metadata": {},
   "outputs": [],
   "source": [
    "library(\"matrixStats\")"
   ]
  },
  {
   "cell_type": "code",
   "execution_count": 8,
   "metadata": {},
   "outputs": [
    {
     "data": {
      "text/html": [
       "4.4"
      ],
      "text/latex": [
       "4.4"
      ],
      "text/markdown": [
       "4.4"
      ],
      "text/plain": [
       "[1] 4.4"
      ]
     },
     "metadata": {},
     "output_type": "display_data"
    }
   ],
   "source": [
    "weightedMedian(state[[\"Murder.Rate\"]], w=state[[\"Population\"]])"
   ]
  },
  {
   "cell_type": "markdown",
   "metadata": {},
   "source": [
    "## Estimates of Variability/Dispersion\n",
    "\n",
    "Terms\n",
    "- Deviations (errors, residuals)\n",
    "    - diff between observed values and the estimate of location\n",
    "- Variance (mean-squared error)\n",
    "    - sum of squared deviations from the mean divided by `n-1` (n = # of values) \n",
    "- Standard deviation (l2-norm, Euclidean norm)\n",
    "    - square root of the variance\n",
    "- Mean absolute deviation (l1-norm, Manhattan norm)\n",
    "    - mean of the absolute value of the deviations from the mean\n",
    "- Median absolute deviation from the median\n",
    "- Range\n",
    "- Order statistics (ranks)\n",
    "- Percentile (quantile) \n",
    "- Interquartile range (IQR)\n",
    "    - diff between the 75th percentile and the 25th percentile\n"
   ]
  },
  {
   "cell_type": "markdown",
   "metadata": {},
   "source": [
    "## Standard Deviation and Related Estimates\n",
    "\n",
    "Goal: tell us how disperes the data is around the central value\n",
    "\n",
    "For a set of data {1, 4, 4}, the mean is 3 and the median is 4.\n",
    "The deviations from the mean are the differences:  \n",
    "1 – 3 = –2  \n",
    "4 – 3 = 1  \n",
    "4 – 3 = 1.  \n",
    "The absolute value of the deviations is {2 1 1} and their average is (2 + 1 + 1) / 3 = 1.33.\n",
    "\n",
    "- the sum of the deviations from the mean is precisely zero\n",
    "\n",
    "\n",
    "### 1 Mean absolute deviation\n",
    "$$Mean absolution deviation = \\frac{\\sum_{i=1}^{n} | x_i - \\bar{x} |}{n}$$\n",
    "\n",
    "### 2 Variance\n",
    "- most widespread and routinely reported statistics of variability\n",
    "- sensitive to ouliers\n",
    "\n",
    "$$Variance = s^{2} = \\frac{\\sum {(x - \\bar{x})}^2}{n-1}$$\n",
    "### 3 Standard deviation\n",
    "- most widespread and routinely reported statistics of variability\n",
    "- sensitive to ouliers\n",
    "\n",
    "$$Standard deviation = s = \\sqrt{Variance}$$\n",
    "\n",
    "\n",
    "All 3 are not robust to outliers and extreme values."
   ]
  },
  {
   "cell_type": "markdown",
   "metadata": {},
   "source": [
    "With Standard deviation's  more complicated and less intuitive formula, it might seem peculiar that the standard deviation is preferred in statistics over the mean absolute deviation. It owes its preeminence to statistical theory: mathematically, working with squared values is much more convenient than absolute values, especially for statistical models."
   ]
  },
  {
   "cell_type": "markdown",
   "metadata": {},
   "source": [
    "---\n",
    "#### Degrees of Freedom\n",
    "\n",
    "N or N-1 ?\n",
    "\n",
    "(N-1) It is based on the premise that you want to make estimates about a population, based on a sample. \n",
    "\n",
    "If you use the intuitive denominator of n in the variance formula, you will underestimate the true value of the variance and the standard deviation in the population. This is referred to as a *biased estimate*. However, if you divide by n – 1 instead of n, the standard deviation becomes an *unbiased estimate*.\n",
    "\n",
    "To fully explain why using n leads to a biased estimate involves the notion of *degrees of freedom*, which takes into account the number of constraints in computing an estimate. In this case, there are n – 1 degrees of freedom\n",
    "since there is one constraint: the standard deviation depends on calculating the sample mean. For many problems, data scientists do not need to worry about degrees of freedom, but there are cases where the concept is important (see “Choosing K”).\n",
    "\n",
    "---"
   ]
  },
  {
   "cell_type": "markdown",
   "metadata": {},
   "source": [
    "### 4 Median absolute deviation from the Median or MAD\n",
    "\n",
    "$$Mean absolute deviation = Median (|x_1 - m| , |x_2 - m|, ..., |x_N - m | )$$"
   ]
  },
  {
   "cell_type": "markdown",
   "metadata": {},
   "source": [
    "### Extra notes\n",
    "\n",
    "variance != standard deviation != mean absolute deviation != median absolute deviation from the median  \n",
    "> not equivalent estimates, even in the case where the data comes from a normal distribution. \n",
    "\n",
    "median absolute deviation is > standard deviation is > the mean absolute deviation (MAD)\n",
    "\n",
    "Sometimes, the median absolute deviation is multiplied by a constant scaling factor (it happens to work out to 1.4826) to put MAD on the same scale as the standard deviation in the case of a normal distribution"
   ]
  },
  {
   "cell_type": "markdown",
   "metadata": {},
   "source": [
    "## Estimates Based on Percentiles\n",
    "\n",
    "### Other approach/method to estimating dispersion  \n",
    "**Order Statistics** - Statistics based on sorted (ranked) data \n",
    "- range \n",
    "    - difference between the largest and smallest number\n",
    "    - sensitive to outliers\n",
    "    - to avoid sensitivity to outliers, get range after dropping values from each end\n",
    "- percentile difference\n",
    "    - interquartile range (IQR)\n",
    "        - difference between the 25th percentile and the 75th percentile\n",
    "        - Here is a simple example: 3,1,5,3,6,7,2,9. We sort these to get 1,2,3,3,5,6,7,9. The 25th percentile is at 2.5, and the 75th percentile is at 6.5, so the interquartile range is 6.5 – 2.5 = 4.\n",
    "\n",
    "percentile $$ R = \\frac{P}{100}*(N+1)$$\n",
    "\n",
    "Where:  \n",
    "P is the desired percentile (25 if we're looking for the 25th percentile) and  \n",
    "N is the number of numbers\n",
    "\n",
    "** [Zhang-Wang 2007) - method of getting an approxiamte percentile\n",
    "\n",
    "---\n",
    "percentile rank of a number x\n",
    " $$ \\frac{\\# OfValuesBefore X}{n} * 100 $$\n"
   ]
  },
  {
   "cell_type": "code",
   "execution_count": 9,
   "metadata": {},
   "outputs": [
    {
     "data": {
      "text/html": [
       "<table>\n",
       "<thead><tr><th scope=col>State</th><th scope=col>Population</th><th scope=col>Murder.Rate</th><th scope=col>Abbreviation</th></tr></thead>\n",
       "<tbody>\n",
       "\t<tr><td>Alabama       </td><td> 4779736      </td><td> 5.7          </td><td>AL            </td></tr>\n",
       "\t<tr><td>Alaska        </td><td>  710231      </td><td> 5.6          </td><td>AK            </td></tr>\n",
       "\t<tr><td>Arizona       </td><td> 6392017      </td><td> 4.7          </td><td>AZ            </td></tr>\n",
       "\t<tr><td>Arkansas      </td><td> 2915918      </td><td> 5.6          </td><td>AR            </td></tr>\n",
       "\t<tr><td>California    </td><td>37253956      </td><td> 4.4          </td><td>CA            </td></tr>\n",
       "\t<tr><td>Colorado      </td><td> 5029196      </td><td> 2.8          </td><td>CO            </td></tr>\n",
       "\t<tr><td>Connecticut   </td><td> 3574097      </td><td> 2.4          </td><td>CT            </td></tr>\n",
       "\t<tr><td>Delaware      </td><td>  897934      </td><td> 5.8          </td><td>DE            </td></tr>\n",
       "\t<tr><td>Florida       </td><td>18801310      </td><td> 5.8          </td><td>FL            </td></tr>\n",
       "\t<tr><td>Georgia       </td><td> 9687653      </td><td> 5.7          </td><td>GA            </td></tr>\n",
       "\t<tr><td>Hawaii        </td><td> 1360301      </td><td> 1.8          </td><td>HI            </td></tr>\n",
       "\t<tr><td>Idaho         </td><td> 1567582      </td><td> 2.0          </td><td>ID            </td></tr>\n",
       "\t<tr><td>Illinois      </td><td>12830632      </td><td> 5.3          </td><td>IL            </td></tr>\n",
       "\t<tr><td>Indiana       </td><td> 6483802      </td><td> 5.0          </td><td>IN            </td></tr>\n",
       "\t<tr><td>Iowa          </td><td> 3046355      </td><td> 1.9          </td><td>IA            </td></tr>\n",
       "\t<tr><td>Kansas        </td><td> 2853118      </td><td> 3.1          </td><td>KS            </td></tr>\n",
       "\t<tr><td>Kentucky      </td><td> 4339367      </td><td> 3.6          </td><td>KY            </td></tr>\n",
       "\t<tr><td>Louisiana     </td><td> 4533372      </td><td>10.3          </td><td>LA            </td></tr>\n",
       "\t<tr><td>Maine         </td><td> 1328361      </td><td> 1.6          </td><td>ME            </td></tr>\n",
       "\t<tr><td>Maryland      </td><td> 5773552      </td><td> 6.1          </td><td>MD            </td></tr>\n",
       "\t<tr><td>Massachusetts </td><td> 6547629      </td><td> 2.0          </td><td>MA            </td></tr>\n",
       "\t<tr><td>Michigan      </td><td> 9883640      </td><td> 5.4          </td><td>MI            </td></tr>\n",
       "\t<tr><td>Minnesota     </td><td> 5303925      </td><td> 1.6          </td><td>MN            </td></tr>\n",
       "\t<tr><td>Mississippi   </td><td> 2967297      </td><td> 8.6          </td><td>MS            </td></tr>\n",
       "\t<tr><td>Missouri      </td><td> 5988927      </td><td> 6.6          </td><td>MO            </td></tr>\n",
       "\t<tr><td>Montana       </td><td>  989415      </td><td> 3.6          </td><td>MT            </td></tr>\n",
       "\t<tr><td>Nebraska      </td><td> 1826341      </td><td> 2.9          </td><td>NE            </td></tr>\n",
       "\t<tr><td>Nevada        </td><td> 2700551      </td><td> 6.0          </td><td>NV            </td></tr>\n",
       "\t<tr><td>New Hampshire </td><td> 1316470      </td><td> 0.9          </td><td>NH            </td></tr>\n",
       "\t<tr><td>New Jersey    </td><td> 8791894      </td><td> 3.9          </td><td>NJ            </td></tr>\n",
       "\t<tr><td>New Mexico    </td><td> 2059179      </td><td> 4.8          </td><td>NM            </td></tr>\n",
       "\t<tr><td>New York      </td><td>19378102      </td><td> 3.1          </td><td>NY            </td></tr>\n",
       "\t<tr><td>North Carolina</td><td> 9535483      </td><td> 5.1          </td><td>NC            </td></tr>\n",
       "\t<tr><td>North Dakota  </td><td>  672591      </td><td> 3.0          </td><td>ND            </td></tr>\n",
       "\t<tr><td>Ohio          </td><td>11536504      </td><td> 4.0          </td><td>OH            </td></tr>\n",
       "\t<tr><td>Oklahoma      </td><td> 3751351      </td><td> 4.5          </td><td>OK            </td></tr>\n",
       "\t<tr><td>Oregon        </td><td> 3831074      </td><td> 2.0          </td><td>OR            </td></tr>\n",
       "\t<tr><td>Pennsylvania  </td><td>12702379      </td><td> 4.8          </td><td>PA            </td></tr>\n",
       "\t<tr><td>Rhode Island  </td><td> 1052567      </td><td> 2.4          </td><td>RI            </td></tr>\n",
       "\t<tr><td>South Carolina</td><td> 4625364      </td><td> 6.4          </td><td>SC            </td></tr>\n",
       "\t<tr><td>South Dakota  </td><td>  814180      </td><td> 2.3          </td><td>SD            </td></tr>\n",
       "\t<tr><td>Tennessee     </td><td> 6346105      </td><td> 5.7          </td><td>TN            </td></tr>\n",
       "\t<tr><td>Texas         </td><td>25145561      </td><td> 4.4          </td><td>TX            </td></tr>\n",
       "\t<tr><td>Utah          </td><td> 2763885      </td><td> 2.3          </td><td>UT            </td></tr>\n",
       "\t<tr><td>Vermont       </td><td>  625741      </td><td> 1.6          </td><td>VT            </td></tr>\n",
       "\t<tr><td>Virginia      </td><td> 8001024      </td><td> 4.1          </td><td>VA            </td></tr>\n",
       "\t<tr><td>Washington    </td><td> 6724540      </td><td> 2.5          </td><td>WA            </td></tr>\n",
       "\t<tr><td>West Virginia </td><td> 1852994      </td><td> 4.0          </td><td>WV            </td></tr>\n",
       "\t<tr><td>Wisconsin     </td><td> 5686986      </td><td> 2.9          </td><td>WI            </td></tr>\n",
       "\t<tr><td>Wyoming       </td><td>  563626      </td><td> 2.7          </td><td>WY            </td></tr>\n",
       "</tbody>\n",
       "</table>\n"
      ],
      "text/latex": [
       "\\begin{tabular}{r|llll}\n",
       " State & Population & Murder.Rate & Abbreviation\\\\\n",
       "\\hline\n",
       "\t Alabama        &  4779736       &  5.7           & AL            \\\\\n",
       "\t Alaska         &   710231       &  5.6           & AK            \\\\\n",
       "\t Arizona        &  6392017       &  4.7           & AZ            \\\\\n",
       "\t Arkansas       &  2915918       &  5.6           & AR            \\\\\n",
       "\t California     & 37253956       &  4.4           & CA            \\\\\n",
       "\t Colorado       &  5029196       &  2.8           & CO            \\\\\n",
       "\t Connecticut    &  3574097       &  2.4           & CT            \\\\\n",
       "\t Delaware       &   897934       &  5.8           & DE            \\\\\n",
       "\t Florida        & 18801310       &  5.8           & FL            \\\\\n",
       "\t Georgia        &  9687653       &  5.7           & GA            \\\\\n",
       "\t Hawaii         &  1360301       &  1.8           & HI            \\\\\n",
       "\t Idaho          &  1567582       &  2.0           & ID            \\\\\n",
       "\t Illinois       & 12830632       &  5.3           & IL            \\\\\n",
       "\t Indiana        &  6483802       &  5.0           & IN            \\\\\n",
       "\t Iowa           &  3046355       &  1.9           & IA            \\\\\n",
       "\t Kansas         &  2853118       &  3.1           & KS            \\\\\n",
       "\t Kentucky       &  4339367       &  3.6           & KY            \\\\\n",
       "\t Louisiana      &  4533372       & 10.3           & LA            \\\\\n",
       "\t Maine          &  1328361       &  1.6           & ME            \\\\\n",
       "\t Maryland       &  5773552       &  6.1           & MD            \\\\\n",
       "\t Massachusetts  &  6547629       &  2.0           & MA            \\\\\n",
       "\t Michigan       &  9883640       &  5.4           & MI            \\\\\n",
       "\t Minnesota      &  5303925       &  1.6           & MN            \\\\\n",
       "\t Mississippi    &  2967297       &  8.6           & MS            \\\\\n",
       "\t Missouri       &  5988927       &  6.6           & MO            \\\\\n",
       "\t Montana        &   989415       &  3.6           & MT            \\\\\n",
       "\t Nebraska       &  1826341       &  2.9           & NE            \\\\\n",
       "\t Nevada         &  2700551       &  6.0           & NV            \\\\\n",
       "\t New Hampshire  &  1316470       &  0.9           & NH            \\\\\n",
       "\t New Jersey     &  8791894       &  3.9           & NJ            \\\\\n",
       "\t New Mexico     &  2059179       &  4.8           & NM            \\\\\n",
       "\t New York       & 19378102       &  3.1           & NY            \\\\\n",
       "\t North Carolina &  9535483       &  5.1           & NC            \\\\\n",
       "\t North Dakota   &   672591       &  3.0           & ND            \\\\\n",
       "\t Ohio           & 11536504       &  4.0           & OH            \\\\\n",
       "\t Oklahoma       &  3751351       &  4.5           & OK            \\\\\n",
       "\t Oregon         &  3831074       &  2.0           & OR            \\\\\n",
       "\t Pennsylvania   & 12702379       &  4.8           & PA            \\\\\n",
       "\t Rhode Island   &  1052567       &  2.4           & RI            \\\\\n",
       "\t South Carolina &  4625364       &  6.4           & SC            \\\\\n",
       "\t South Dakota   &   814180       &  2.3           & SD            \\\\\n",
       "\t Tennessee      &  6346105       &  5.7           & TN            \\\\\n",
       "\t Texas          & 25145561       &  4.4           & TX            \\\\\n",
       "\t Utah           &  2763885       &  2.3           & UT            \\\\\n",
       "\t Vermont        &   625741       &  1.6           & VT            \\\\\n",
       "\t Virginia       &  8001024       &  4.1           & VA            \\\\\n",
       "\t Washington     &  6724540       &  2.5           & WA            \\\\\n",
       "\t West Virginia  &  1852994       &  4.0           & WV            \\\\\n",
       "\t Wisconsin      &  5686986       &  2.9           & WI            \\\\\n",
       "\t Wyoming        &   563626       &  2.7           & WY            \\\\\n",
       "\\end{tabular}\n"
      ],
      "text/markdown": [
       "\n",
       "| State | Population | Murder.Rate | Abbreviation |\n",
       "|---|---|---|---|\n",
       "| Alabama        |  4779736       |  5.7           | AL             |\n",
       "| Alaska         |   710231       |  5.6           | AK             |\n",
       "| Arizona        |  6392017       |  4.7           | AZ             |\n",
       "| Arkansas       |  2915918       |  5.6           | AR             |\n",
       "| California     | 37253956       |  4.4           | CA             |\n",
       "| Colorado       |  5029196       |  2.8           | CO             |\n",
       "| Connecticut    |  3574097       |  2.4           | CT             |\n",
       "| Delaware       |   897934       |  5.8           | DE             |\n",
       "| Florida        | 18801310       |  5.8           | FL             |\n",
       "| Georgia        |  9687653       |  5.7           | GA             |\n",
       "| Hawaii         |  1360301       |  1.8           | HI             |\n",
       "| Idaho          |  1567582       |  2.0           | ID             |\n",
       "| Illinois       | 12830632       |  5.3           | IL             |\n",
       "| Indiana        |  6483802       |  5.0           | IN             |\n",
       "| Iowa           |  3046355       |  1.9           | IA             |\n",
       "| Kansas         |  2853118       |  3.1           | KS             |\n",
       "| Kentucky       |  4339367       |  3.6           | KY             |\n",
       "| Louisiana      |  4533372       | 10.3           | LA             |\n",
       "| Maine          |  1328361       |  1.6           | ME             |\n",
       "| Maryland       |  5773552       |  6.1           | MD             |\n",
       "| Massachusetts  |  6547629       |  2.0           | MA             |\n",
       "| Michigan       |  9883640       |  5.4           | MI             |\n",
       "| Minnesota      |  5303925       |  1.6           | MN             |\n",
       "| Mississippi    |  2967297       |  8.6           | MS             |\n",
       "| Missouri       |  5988927       |  6.6           | MO             |\n",
       "| Montana        |   989415       |  3.6           | MT             |\n",
       "| Nebraska       |  1826341       |  2.9           | NE             |\n",
       "| Nevada         |  2700551       |  6.0           | NV             |\n",
       "| New Hampshire  |  1316470       |  0.9           | NH             |\n",
       "| New Jersey     |  8791894       |  3.9           | NJ             |\n",
       "| New Mexico     |  2059179       |  4.8           | NM             |\n",
       "| New York       | 19378102       |  3.1           | NY             |\n",
       "| North Carolina |  9535483       |  5.1           | NC             |\n",
       "| North Dakota   |   672591       |  3.0           | ND             |\n",
       "| Ohio           | 11536504       |  4.0           | OH             |\n",
       "| Oklahoma       |  3751351       |  4.5           | OK             |\n",
       "| Oregon         |  3831074       |  2.0           | OR             |\n",
       "| Pennsylvania   | 12702379       |  4.8           | PA             |\n",
       "| Rhode Island   |  1052567       |  2.4           | RI             |\n",
       "| South Carolina |  4625364       |  6.4           | SC             |\n",
       "| South Dakota   |   814180       |  2.3           | SD             |\n",
       "| Tennessee      |  6346105       |  5.7           | TN             |\n",
       "| Texas          | 25145561       |  4.4           | TX             |\n",
       "| Utah           |  2763885       |  2.3           | UT             |\n",
       "| Vermont        |   625741       |  1.6           | VT             |\n",
       "| Virginia       |  8001024       |  4.1           | VA             |\n",
       "| Washington     |  6724540       |  2.5           | WA             |\n",
       "| West Virginia  |  1852994       |  4.0           | WV             |\n",
       "| Wisconsin      |  5686986       |  2.9           | WI             |\n",
       "| Wyoming        |   563626       |  2.7           | WY             |\n",
       "\n"
      ],
      "text/plain": [
       "   State          Population Murder.Rate Abbreviation\n",
       "1  Alabama         4779736    5.7        AL          \n",
       "2  Alaska           710231    5.6        AK          \n",
       "3  Arizona         6392017    4.7        AZ          \n",
       "4  Arkansas        2915918    5.6        AR          \n",
       "5  California     37253956    4.4        CA          \n",
       "6  Colorado        5029196    2.8        CO          \n",
       "7  Connecticut     3574097    2.4        CT          \n",
       "8  Delaware         897934    5.8        DE          \n",
       "9  Florida        18801310    5.8        FL          \n",
       "10 Georgia         9687653    5.7        GA          \n",
       "11 Hawaii          1360301    1.8        HI          \n",
       "12 Idaho           1567582    2.0        ID          \n",
       "13 Illinois       12830632    5.3        IL          \n",
       "14 Indiana         6483802    5.0        IN          \n",
       "15 Iowa            3046355    1.9        IA          \n",
       "16 Kansas          2853118    3.1        KS          \n",
       "17 Kentucky        4339367    3.6        KY          \n",
       "18 Louisiana       4533372   10.3        LA          \n",
       "19 Maine           1328361    1.6        ME          \n",
       "20 Maryland        5773552    6.1        MD          \n",
       "21 Massachusetts   6547629    2.0        MA          \n",
       "22 Michigan        9883640    5.4        MI          \n",
       "23 Minnesota       5303925    1.6        MN          \n",
       "24 Mississippi     2967297    8.6        MS          \n",
       "25 Missouri        5988927    6.6        MO          \n",
       "26 Montana          989415    3.6        MT          \n",
       "27 Nebraska        1826341    2.9        NE          \n",
       "28 Nevada          2700551    6.0        NV          \n",
       "29 New Hampshire   1316470    0.9        NH          \n",
       "30 New Jersey      8791894    3.9        NJ          \n",
       "31 New Mexico      2059179    4.8        NM          \n",
       "32 New York       19378102    3.1        NY          \n",
       "33 North Carolina  9535483    5.1        NC          \n",
       "34 North Dakota     672591    3.0        ND          \n",
       "35 Ohio           11536504    4.0        OH          \n",
       "36 Oklahoma        3751351    4.5        OK          \n",
       "37 Oregon          3831074    2.0        OR          \n",
       "38 Pennsylvania   12702379    4.8        PA          \n",
       "39 Rhode Island    1052567    2.4        RI          \n",
       "40 South Carolina  4625364    6.4        SC          \n",
       "41 South Dakota     814180    2.3        SD          \n",
       "42 Tennessee       6346105    5.7        TN          \n",
       "43 Texas          25145561    4.4        TX          \n",
       "44 Utah            2763885    2.3        UT          \n",
       "45 Vermont          625741    1.6        VT          \n",
       "46 Virginia        8001024    4.1        VA          \n",
       "47 Washington      6724540    2.5        WA          \n",
       "48 West Virginia   1852994    4.0        WV          \n",
       "49 Wisconsin       5686986    2.9        WI          \n",
       "50 Wyoming          563626    2.7        WY          "
      ]
     },
     "metadata": {},
     "output_type": "display_data"
    }
   ],
   "source": [
    "state"
   ]
  },
  {
   "cell_type": "code",
   "execution_count": 10,
   "metadata": {},
   "outputs": [
    {
     "data": {
      "text/html": [
       "6848235.34740114"
      ],
      "text/latex": [
       "6848235.34740114"
      ],
      "text/markdown": [
       "6848235.34740114"
      ],
      "text/plain": [
       "[1] 6848235"
      ]
     },
     "metadata": {},
     "output_type": "display_data"
    }
   ],
   "source": [
    "sd(state[[\"Population\"]]) \n",
    "# standard deviation almost 2 times as large as the MAD\n",
    "# sensitive to outliers"
   ]
  },
  {
   "cell_type": "code",
   "execution_count": 11,
   "metadata": {},
   "outputs": [
    {
     "data": {
      "text/html": [
       "4847308"
      ],
      "text/latex": [
       "4847308"
      ],
      "text/markdown": [
       "4847308"
      ],
      "text/plain": [
       "[1] 4847308"
      ]
     },
     "metadata": {},
     "output_type": "display_data"
    }
   ],
   "source": [
    "IQR(state[[\"Population\"]])"
   ]
  },
  {
   "cell_type": "code",
   "execution_count": 12,
   "metadata": {},
   "outputs": [
    {
     "data": {
      "text/html": [
       "3849870.3852"
      ],
      "text/latex": [
       "3849870.3852"
      ],
      "text/markdown": [
       "3849870.3852"
      ],
      "text/plain": [
       "[1] 3849870"
      ]
     },
     "metadata": {},
     "output_type": "display_data"
    }
   ],
   "source": [
    "mad(state[[\"Population\"]])\n",
    "# in R by default, scale is adjusted to be on the same scale as mean"
   ]
  },
  {
   "cell_type": "code",
   "execution_count": 13,
   "metadata": {},
   "outputs": [
    {
     "data": {
      "text/html": [
       "8.8956"
      ],
      "text/latex": [
       "8.8956"
      ],
      "text/markdown": [
       "8.8956"
      ],
      "text/plain": [
       "[1] 8.8956"
      ]
     },
     "metadata": {},
     "output_type": "display_data"
    },
    {
     "data": {
      "text/html": [
       "<ol class=list-inline>\n",
       "\t<li>2</li>\n",
       "\t<li>6</li>\n",
       "\t<li>6</li>\n",
       "\t<li>12</li>\n",
       "\t<li>17</li>\n",
       "\t<li>25</li>\n",
       "\t<li>32</li>\n",
       "</ol>\n"
      ],
      "text/latex": [
       "\\begin{enumerate*}\n",
       "\\item 2\n",
       "\\item 6\n",
       "\\item 6\n",
       "\\item 12\n",
       "\\item 17\n",
       "\\item 25\n",
       "\\item 32\n",
       "\\end{enumerate*}\n"
      ],
      "text/markdown": [
       "1. 2\n",
       "2. 6\n",
       "3. 6\n",
       "4. 12\n",
       "5. 17\n",
       "6. 25\n",
       "7. 32\n",
       "\n",
       "\n"
      ],
      "text/plain": [
       "[1]  2  6  6 12 17 25 32"
      ]
     },
     "metadata": {},
     "output_type": "display_data"
    }
   ],
   "source": [
    "# https://www.r-bloggers.com/absolute-deviation-around-the-median/\n",
    "x <- c(2, 6, 6, 12, 17, 25 ,32)\n",
    "mad(x, center = median(x), constant = 1.4826,\n",
    "    na.rm = FALSE, low = FALSE, high = FALSE)\n",
    "x"
   ]
  },
  {
   "cell_type": "markdown",
   "metadata": {},
   "source": [
    "## Exploring Data Distribution\n",
    "\n",
    "Terms:\n",
    "\n",
    "- Boxplot\n",
    "    - quick way to viz distrib of data\n",
    "- Frequency Table\n",
    "    - a tally the count of numeric data values that fall into a set of intervals\n",
    "- Histogram\n",
    "    - a plot of the frequency table with the bins on the x-axis and the count (or proportion) on the y-axis\n",
    "- Density Plot\n",
    "    - A smoothed version of the histogram, based on a kernel density estimate"
   ]
  },
  {
   "cell_type": "code",
   "execution_count": 14,
   "metadata": {},
   "outputs": [
    {
     "data": {
      "text/html": [
       "<dl class=dl-horizontal>\n",
       "\t<dt>5%</dt>\n",
       "\t\t<dd>1.6</dd>\n",
       "\t<dt>25%</dt>\n",
       "\t\t<dd>2.425</dd>\n",
       "\t<dt>50%</dt>\n",
       "\t\t<dd>4</dd>\n",
       "\t<dt>75%</dt>\n",
       "\t\t<dd>5.55</dd>\n",
       "\t<dt>95%</dt>\n",
       "\t\t<dd>6.51</dd>\n",
       "</dl>\n"
      ],
      "text/latex": [
       "\\begin{description*}\n",
       "\\item[5\\textbackslash{}\\%] 1.6\n",
       "\\item[25\\textbackslash{}\\%] 2.425\n",
       "\\item[50\\textbackslash{}\\%] 4\n",
       "\\item[75\\textbackslash{}\\%] 5.55\n",
       "\\item[95\\textbackslash{}\\%] 6.51\n",
       "\\end{description*}\n"
      ],
      "text/markdown": [
       "5%\n",
       ":   1.625%\n",
       ":   2.42550%\n",
       ":   475%\n",
       ":   5.5595%\n",
       ":   6.51\n",
       "\n"
      ],
      "text/plain": [
       "   5%   25%   50%   75%   95% \n",
       "1.600 2.425 4.000 5.550 6.510 "
      ]
     },
     "metadata": {},
     "output_type": "display_data"
    }
   ],
   "source": [
    "quantile(state[[\"Murder.Rate\"]], p=c(.05, .25, .5, .75, .95))\n",
    "#The median is 4 murders per 100,000 people, \n",
    "# although there is quite a bit of variability: the 5th percentile\n",
    "# is only 1.6 and the 95th percentile is 6.51."
   ]
  },
  {
   "cell_type": "code",
   "execution_count": 15,
   "metadata": {},
   "outputs": [
    {
     "data": {
      "image/png": "[encoded data removed]",
      "text/plain": [
       "plot without title"
      ]
     },
     "metadata": {},
     "output_type": "display_data"
    }
   ],
   "source": [
    "boxplot(state[[\"Population\"]]/1000000, ylab=\"Population (millions)\")\n",
    "# top of the box = 75th percentile\n",
    "# bottom of the box = 25th percentile\n",
    "# horizontal line in the box - median\n",
    "# dashed lines - whiskers\n",
    "# R function (by default) - extends whiskers to the furthest point, \n",
    "# but not beyond 1.5 times the IQR"
   ]
  },
  {
   "cell_type": "code",
   "execution_count": 16,
   "metadata": {},
   "outputs": [
    {
     "data": {
      "text/html": [
       "<dl class=dl-horizontal>\n",
       "\t<dt>[5.64e+05,4.23e+06]</dt>\n",
       "\t\t<dd>24</dd>\n",
       "\t<dt>(4.23e+06,7.9e+06]</dt>\n",
       "\t\t<dd>14</dd>\n",
       "\t<dt>(7.9e+06,1.16e+07]</dt>\n",
       "\t\t<dd>6</dd>\n",
       "\t<dt>(1.16e+07,1.52e+07]</dt>\n",
       "\t\t<dd>2</dd>\n",
       "\t<dt>(1.52e+07,1.89e+07]</dt>\n",
       "\t\t<dd>1</dd>\n",
       "\t<dt>(1.89e+07,2.26e+07]</dt>\n",
       "\t\t<dd>1</dd>\n",
       "\t<dt>(2.26e+07,2.62e+07]</dt>\n",
       "\t\t<dd>1</dd>\n",
       "\t<dt>(2.62e+07,2.99e+07]</dt>\n",
       "\t\t<dd>0</dd>\n",
       "\t<dt>(2.99e+07,3.36e+07]</dt>\n",
       "\t\t<dd>0</dd>\n",
       "\t<dt>(3.36e+07,3.73e+07]</dt>\n",
       "\t\t<dd>1</dd>\n",
       "</dl>\n"
      ],
      "text/latex": [
       "\\begin{description*}\n",
       "\\item[\\{{[}\\}5.64e+05,4.23e+06\\{{]}\\}] 24\n",
       "\\item[(4.23e+06,7.9e+06\\{{]}\\}] 14\n",
       "\\item[(7.9e+06,1.16e+07\\{{]}\\}] 6\n",
       "\\item[(1.16e+07,1.52e+07\\{{]}\\}] 2\n",
       "\\item[(1.52e+07,1.89e+07\\{{]}\\}] 1\n",
       "\\item[(1.89e+07,2.26e+07\\{{]}\\}] 1\n",
       "\\item[(2.26e+07,2.62e+07\\{{]}\\}] 1\n",
       "\\item[(2.62e+07,2.99e+07\\{{]}\\}] 0\n",
       "\\item[(2.99e+07,3.36e+07\\{{]}\\}] 0\n",
       "\\item[(3.36e+07,3.73e+07\\{{]}\\}] 1\n",
       "\\end{description*}\n"
      ],
      "text/markdown": [
       "[5.64e+05,4.23e+06]\n",
       ":   24(4.23e+06,7.9e+06]\n",
       ":   14(7.9e+06,1.16e+07]\n",
       ":   6(1.16e+07,1.52e+07]\n",
       ":   2(1.52e+07,1.89e+07]\n",
       ":   1(1.89e+07,2.26e+07]\n",
       ":   1(2.26e+07,2.62e+07]\n",
       ":   1(2.62e+07,2.99e+07]\n",
       ":   0(2.99e+07,3.36e+07]\n",
       ":   0(3.36e+07,3.73e+07]\n",
       ":   1\n",
       "\n"
      ],
      "text/plain": [
       "[5.64e+05,4.23e+06]  (4.23e+06,7.9e+06]  (7.9e+06,1.16e+07] (1.16e+07,1.52e+07] \n",
       "                 24                  14                   6                   2 \n",
       "(1.52e+07,1.89e+07] (1.89e+07,2.26e+07] (2.26e+07,2.62e+07] (2.62e+07,2.99e+07] \n",
       "                  1                   1                   1                   0 \n",
       "(2.99e+07,3.36e+07] (3.36e+07,3.73e+07] \n",
       "                  0                   1 "
      ]
     },
     "metadata": {},
     "output_type": "display_data"
    }
   ],
   "source": [
    "breaks <- seq(from=min(state[[\"Population\"]]), to=max(state[[\"Population\"]]), length=11)\n",
    "pop_freq <- cut(state[[\"Population\"]], breaks=breaks, right=TRUE, include.lowest = TRUE)\n",
    "state['PopFreq'] <- pop_freq\n",
    "summary(pop_freq)"
   ]
  },
  {
   "cell_type": "code",
   "execution_count": 41,
   "metadata": {},
   "outputs": [
    {
     "data": {
      "image/png": "[encoded data removed]",
      "text/plain": [
       "Plot with title \"Histogram of state[[\"Population\"]]\""
      ]
     },
     "metadata": {},
     "output_type": "display_data"
    }
   ],
   "source": [
    "hist(state[[\"Population\"]], breaks=breaks)\n",
    "# A histogram is a way to visualize a frequency table, \\\n",
    "# with bins on the x-axis and data count on the y-axis"
   ]
  },
  {
   "cell_type": "markdown",
   "metadata": {},
   "source": [
    "### Density Estimates\n",
    "- Density Plot\n",
    "    - shows the distribution of data values as a continuous line\n",
    "    - (smoothed histogram)\n",
    "    - it is typically computed directly from the data through a kernal density estimate"
   ]
  },
  {
   "cell_type": "code",
   "execution_count": 42,
   "metadata": {},
   "outputs": [
    {
     "data": {
      "image/png": "[encoded data removed]",
      "text/plain": [
       "Plot with title \"Histogram of state[[\"Murder.Rate\"]]\""
      ]
     },
     "metadata": {},
     "output_type": "display_data"
    }
   ],
   "source": [
    "hist(state[[\"Murder.Rate\"]], freq=FALSE)\n",
    "lines(density(state[[\"Murder.Rate\"]]), lwd=3, col=\"blue\")"
   ]
  },
  {
   "cell_type": "markdown",
   "metadata": {},
   "source": [
    "## Exploring Binary and Categorical Data\n",
    "- For categorical data, simple proportions or percentages tell the story of the data\n",
    "\n",
    "\n",
    "- Bar charts\n",
    "    - frequency or proportion for each category plotted as bars\n",
    "- Pie charts are an alternative to bar charts, although statisticians and data visualization experts generally eschew pie charts as less visually informative\n",
    "- Mode\n",
    "    - value that appears most often in the data\n",
    "- Expected Value\n",
    "    - A special type of categorical data is data in which the categories represent or can be mapped to discrete values on the same scale\n",
    "    - a form of weighted mean: it adds the ideas of future expectations and probability weights, often based on subjective judgment\n",
    "    \n",
    "Key Ideas\n",
    "- Categorical data is typically summed up in proportions, and can be visualized in a bar chart.\n",
    "- Categories might represent distinct things (apples and oranges, male and female), levels of a factor variable (low, medium, and high), or numeric data that has been binned.\n",
    "- Expected value is the sum of values times their probability of occurrence, often used to sum up factor variable levels."
   ]
  },
  {
   "cell_type": "code",
   "execution_count": null,
   "metadata": {},
   "outputs": [],
   "source": []
  }
 ],
 "metadata": {
  "kernelspec": {
   "display_name": "R",
   "language": "R",
   "name": "ir"
  },
  "language_info": {
   "codemirror_mode": "r",
   "file_extension": ".r",
   "mimetype": "text/x-r-source",
   "name": "R",
   "pygments_lexer": "r",
   "version": "3.6.1"
  }
 },
 "nbformat": 4,
 "nbformat_minor": 2
}
