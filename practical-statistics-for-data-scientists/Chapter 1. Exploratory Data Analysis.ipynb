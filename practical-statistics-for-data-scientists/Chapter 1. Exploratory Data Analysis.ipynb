{
 "cells": [
  {
   "cell_type": "markdown",
   "metadata": {},
   "source": [
    "# Chapter 1. Exploratory Data Analysis\n",
    "\n",
    "pages 14-35\n",
    "\n",
    "## History\n",
    "- Probability Theory (the mathematical foundation for statistics)\n",
    "    - developed in the  17th to 19th centuries\n",
    "    - Thomas Bayes, Pierre-Simon Laplace, Carl Gauss\n",
    "- Statistics\n",
    "    - applied science concerned with analysis and modeling of data\n",
    "    - Francis Galton and Karl Pearson\n",
    "- Modern Statistics\n",
    "    - roots back to 1800s \n",
    "    - R. A. Fisher (leading pioneer in the early 20th century)\n",
    "        - experimental design\n",
    "        - maximum likelihood estimation\n",
    "\n",
    "(A) Classical statistics vs (B) Exploratory data analysis [EDA] \n",
    "\n",
    "(A) focused almost exclusively on inference\n",
    "\n",
    "John W. Turkey in 1962\n",
    "- wrote a seminal paper called \"The Future of Data Analysis\"\n",
    "- proposed a new scientific discipline called _data analysis_\n",
    "- forged links to the engineering and computer science communities\n",
    "- coined the term 'bit'"
   ]
  },
  {
   "cell_type": "markdown",
   "metadata": {},
   "source": [
    "## Elements of Structured Data\n",
    "\n",
    "Sources\n",
    "- images\n",
    "- text\n",
    "- clickstreams\n",
    "\n",
    "### 2 basic types of structured data:\n",
    "1. numeric\n",
    "    1. continuous\n",
    "        - ex. wind speed, time duration, temperature\n",
    "    2. discrete\n",
    "        - ex. count of occurrence\n",
    "2. categorical\n",
    "    1. binary data (special case of categorical data)\n",
    "        - [0,1] [yes, no] [true, false]\n",
    "    2. ordinal data\n",
    "        - rating from 1-5\n",
    "        \n",
    "Why learn the taxonomy/classification of data types?\n",
    "- Data type is important to help determine the **type of visual display**, **data analysis**, or **statistical model**"
   ]
  },
  {
   "cell_type": "markdown",
   "metadata": {},
   "source": [
    "### Rectangular Data\n",
    "\n",
    "- Like a spreadsheet or database table\n",
    "- 2-dimensional matrix with rows/records and columns/features\n",
    "\n",
    "### Nonrectangular Data Structures\n",
    "- Time Series\n",
    "- Spatial data structures\n",
    "- Graph data structures\n",
    "\n",
    "## Metrics of Location/ Estimates of Location\n",
    "\n",
    "Goal: To find the best measure to describe the central value\n",
    "- Mean\n",
    "    - sum of all the values divided by the number of values.\n",
    "$$Mean = \\bar{x} = \\frac{\\sum_{i}^{n}{x_i}}{n}$$\n",
    "- Trimmed mean\n",
    "    - eliminates the influence of extreme values\n",
    "    - used in competitions (remove highest and lowest score)\n",
    "    - can be thought as a compromose between median and mean\n",
    "        - it is robust to extreme values in the data, but uses more data to calculate the estimate for location\n",
    "- Weighted Mean  \n",
    "    - 2 motivations for using this\n",
    "        - some values are intrinsically more variable than others leading to highly variable observations given a lower weight\n",
    "        - the data collected may have underrepresentation or overrepresentation\n",
    "<br>\n",
    "- Median\n",
    "    - is the middle number on a sorted list of the data\n",
    "    - robust to outliers\n",
    "- Weighted Median  \n",
    "    - is a value such that the sum of the weights is equal for the lower and upper halves of the sorted list\n",
    "    - robust to outliers\n",
    "\n",
    "- Robust\n",
    "- Outlier  "
   ]
  },
  {
   "cell_type": "markdown",
   "metadata": {},
   "source": [
    "---\n",
    "## R\n",
    "\n",
    "data.frame\n",
    "row.names\n",
    "\n",
    "data.frame - does not support user-specified ot multilevel indexes\n",
    "\n",
    "2 popular packages\n",
    "1. data.table\n",
    "2. dplyr\n",
    "---"
   ]
  },
  {
   "cell_type": "markdown",
   "metadata": {},
   "source": []
  }
 ],
 "metadata": {
  "kernelspec": {
   "display_name": "R",
   "language": "R",
   "name": "ir"
  },
  "language_info": {
   "codemirror_mode": "r",
   "file_extension": ".r",
   "mimetype": "text/x-r-source",
   "name": "R",
   "pygments_lexer": "r",
   "version": "3.6.1"
  }
 },
 "nbformat": 4,
 "nbformat_minor": 2
}
