{
 "cells": [
  {
   "cell_type": "markdown",
   "metadata": {},
   "source": [
    "# Chapter 2. Data and Sampling Distributions\n",
    "\n",
    "pages 95-110\n",
    "\n",
    "Intro\n",
    "- popular misconception that the era of big data means the end of a need for sampling, when in fact the rapid increase of data reinforces the need for sampling as a tool to work efficiently and to minimize bias\n",
    "- modern statistics focuses on the sample data and its empirical distribution WHERE **assumptions are not needed** while traditional statistics focused much on population using theory based on strong assumptions"
   ]
  },
  {
   "cell_type": "markdown",
   "metadata": {},
   "source": [
    "## Random Sampling and Sample Bias\n",
    "\n",
    "Key Terms\n",
    "- Sample (n)\n",
    "- Population (N)\n",
    "- Random sampling\n",
    "    - can be done with replacement or without\n",
    "- Stratified sampling\n",
    "- Simple random sample\n",
    "- Sample bias\n",
    "    - occurs when the difference (of the sample to the population it represents) is meaningful\n",
    "- Self-selection sampling bias\n",
    "    - reviews online of restaurants, hotels, cafe, etc\n",
    "    - (prone to bias because the people submitting them are not randomly selected; rather, they themselves have taken the initiative to write)\n",
    "- Bias\n",
    "    - occurs when measurements or observations are systematically in error because they are not representative of the full population\n",
    "- Random selection\n",
    "- Sample mean $$ \\bar{X}$$\n",
    "- Population mean $$ \\mu$$"
   ]
  },
  {
   "cell_type": "markdown",
   "metadata": {},
   "source": [
    "Size versus Quality? When does Size matter?\n",
    "- The classic scenario for the value of big data is when the data is not only big, but sparse as well. (Google Search)"
   ]
  },
  {
   "cell_type": "markdown",
   "metadata": {},
   "source": [
    "## Selection Bias\n",
    "- refers to the practice of selectively choosing data — consciously or unconsciously — in a way that that leads to a conclusion that is misleading or ephemeral\n",
    "\n",
    "Terms\n",
    "- Bias\n",
    "    - Systematic error\n",
    "- Data Snooping\n",
    "    - Extensive hunting through data in search of something interesting\n",
    "- Vast search effect\n",
    "    - Bias or nonreproducibility resulting from repeated data modeling, or modeling data with large numbers of predictor variables.\n",
    "    - If you repeatedly run different models and ask different questions with a large data set, you are bound to find something interesting. Is the result you found truly something interesting, or is it the chance outlier?\n",
    "    - Guard against the vast search effect throguh using a **holdout set** to validate performance\n",
    "    \n",
    "Examples of selection bias:\n",
    "- Vast search effect\n",
    "- nonrandom sampling (sampling bias)\n",
    "- cherry picking data\n",
    "- selection of time intervals that accentuate a particular statistical effect\n",
    "- stopping an experiment when results look \"interesting\""
   ]
  },
  {
   "cell_type": "markdown",
   "metadata": {},
   "source": [
    "### Regression to the mean\n",
    "- phenomenon involving successive measurements on a given variable: extreme observations tend to be followed by more central ones. Attaching special focus and meaning to the extreme value can lead to a form of selection bias.\n",
    "- example: “rookie of the year, sophomore slump” phenomenon"
   ]
  },
  {
   "cell_type": "code",
   "execution_count": null,
   "metadata": {},
   "outputs": [],
   "source": []
  }
 ],
 "metadata": {
  "kernelspec": {
   "display_name": "R",
   "language": "R",
   "name": "ir"
  },
  "language_info": {
   "codemirror_mode": "r",
   "file_extension": ".r",
   "mimetype": "text/x-r-source",
   "name": "R",
   "pygments_lexer": "r",
   "version": "3.6.1"
  }
 },
 "nbformat": 4,
 "nbformat_minor": 2
}
