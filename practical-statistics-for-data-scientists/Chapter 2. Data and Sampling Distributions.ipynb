{
 "cells": [
  {
   "cell_type": "markdown",
   "metadata": {},
   "source": [
    "# Chapter 2. Data and Sampling Distributions\n",
    "\n",
    "pages 95-105\n",
    "\n",
    "Intro\n",
    "- popular misconception that the era of big data means the end of a need for sampling, when in fact the rapid increase of data reinforces the need for sampling as a tool to work efficiently and to minimize bias\n",
    "- modern statistics focuses on the sample data and its empirical distribution WHERE **assumptions are not needed** while traditional statistics focused much on population using theory based on strong assumptions"
   ]
  },
  {
   "cell_type": "markdown",
   "metadata": {},
   "source": [
    "## Random Sampling and Sample Bias\n",
    "\n",
    "Key Terms\n",
    "- Sample (n)\n",
    "- Population (N)\n",
    "- Random sampling\n",
    "    - can be done with replacement or without\n",
    "- Stratified sampling\n",
    "- Simple random sample\n",
    "- Sample bias\n",
    "    - occurs when the difference (of the sample to the population it represents) is meaningful\n",
    "- Self-selection sampling bias\n",
    "    - reviews online of restaurants, hotels, cafe, etc\n",
    "- Bias\n",
    "    - occurs when measurements or observations are systematically in error because they are not representative of the full population\n",
    "- Random selection\n",
    "- Sample mean $$ \\bar{X}$$\n",
    "- Population mean $$ \\mu$$"
   ]
  },
  {
   "cell_type": "markdown",
   "metadata": {},
   "source": [
    "Size versus Quality? When does Size matter?\n",
    "- The classic scenario for the value of big data is when the data is not only big, but sparse as well. (Google Search)"
   ]
  },
  {
   "cell_type": "code",
   "execution_count": null,
   "metadata": {},
   "outputs": [],
   "source": []
  }
 ],
 "metadata": {
  "kernelspec": {
   "display_name": "R",
   "language": "R",
   "name": "ir"
  },
  "language_info": {
   "codemirror_mode": "r",
   "file_extension": ".r",
   "mimetype": "text/x-r-source",
   "name": "R",
   "pygments_lexer": "r",
   "version": "3.6.1"
  }
 },
 "nbformat": 4,
 "nbformat_minor": 2
}
