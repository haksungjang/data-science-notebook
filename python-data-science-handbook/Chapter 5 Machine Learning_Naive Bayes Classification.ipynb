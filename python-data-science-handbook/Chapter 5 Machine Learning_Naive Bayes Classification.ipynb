{
 "cells": [
  {
   "cell_type": "markdown",
   "metadata": {},
   "source": [
    "# Python Data Science Handbook by Jake VanderPlas\n",
    "## Chapter 5 Machine Learning\n",
    "\n",
    "pages 382\n"
   ]
  },
  {
   "cell_type": "markdown",
   "metadata": {},
   "source": [
    "### Naive Bayes models \n",
    "\n",
    "- a group of extremely fast and simple classification algorithmsthat are often suitable for very high-dimensional datasets. \n",
    "- fast\n",
    "- few tunable parameters\n",
    "- used as a quick-and dirty baseline for a classification problem\n"
   ]
  },
  {
   "cell_type": "markdown",
   "metadata": {},
   "source": [
    "### Bayesian Classification\n",
    "\n",
    "$ P(L | features) = \\frac{P(features | L) P(L)}{ P(features)}$\n",
    "\n",
    "If we are trying to decide between two labels—let’s call them L1 and L2—then one way to make this decision is to compute the ratio of the posterior probabilities for each\n",
    "label:\n",
    "\n",
    "$ \\frac{P(L_1 | features)}{P(L_1 | features)} = \\frac{P(features | L_1) P(L_1)}{ P(features | L_2) P(L_2)}$\n",
    "\n",
    "All we need now is some model by which we can compute P features Li for each label. \n",
    "\n",
    "Generative model \n",
    "    - specifies the hypothetical random process that generates the data\n",
    "\n",
    "#### Naive\n",
    "If we make very naive assumptions about the generative model for each label, we can find a rough approximation of the generative model for each class, and then proceed with the Bayesian classification"
   ]
  },
  {
   "cell_type": "code",
   "execution_count": null,
   "metadata": {},
   "outputs": [],
   "source": []
  }
 ],
 "metadata": {
  "kernelspec": {
   "display_name": "Python 3",
   "language": "python",
   "name": "python3"
  },
  "language_info": {
   "codemirror_mode": {
    "name": "ipython",
    "version": 3
   },
   "file_extension": ".py",
   "mimetype": "text/x-python",
   "name": "python",
   "nbconvert_exporter": "python",
   "pygments_lexer": "ipython3",
   "version": "3.6.9"
  }
 },
 "nbformat": 4,
 "nbformat_minor": 2
}
