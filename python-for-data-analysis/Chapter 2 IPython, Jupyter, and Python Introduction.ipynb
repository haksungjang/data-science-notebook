{
 "cells": [
  {
   "cell_type": "markdown",
   "metadata": {},
   "source": [
    "Book Reference: page 15-34 of **Python for Data Analysis Book by Wes McKinney**\n",
    "\n",
    "### What is Python?\n",
    "    - an interpreted language\n",
    "    - runs a program by executing one statement at a time (code expressions)"
   ]
  },
  {
   "cell_type": "markdown",
   "metadata": {},
   "source": [
    "#### IPython Tips from the book\n",
    "\n",
    "- use %run <nameOfPythonFile.py> in Ipython to run the Python program inside IPython session (behavior is similar to python script.py)\n",
    "- Should you wish to give a script access to variables already defined in the interactive IPython namespace, use %run -i instead of plain %run.\n",
    "\n",
    "#### IPython and Jupyter Tips from the book\n",
    "- Object Introspection\n",
    "    - Using a question mark (?) before or after a variable will display some general information about the object:\n",
    "        - ex. object? -> Details about 'object', use 'object??' for extra details.\n",
    "    - A number of characters combined with the wildcard (*) will show all names matching the wildcard expression.\n",
    "        - ex. np.*load*? ==> outputs ==> np.__loader__, np.load, np.loads, etc.\n",
    "- Tab completion (variables, packages, paths,  etc)\n",
    "- Many people use Jupyter as a local computing environment, but it can also be deployed on servers and accessed remotely."
   ]
  },
  {
   "cell_type": "markdown",
   "metadata": {},
   "source": [
    "**Trial of object?**"
   ]
  },
  {
   "cell_type": "code",
   "execution_count": 20,
   "metadata": {},
   "outputs": [],
   "source": [
    "def add_numbers(a, b):\n",
    "    \"\"\"\n",
    "    Add two numbers together\n",
    "    Returns\n",
    "    -------\n",
    "    the_sum : type of arguments\n",
    "    \"\"\"\n",
    "    return a + b"
   ]
  },
  {
   "cell_type": "code",
   "execution_count": 21,
   "metadata": {},
   "outputs": [],
   "source": [
    "add_numbers?"
   ]
  },
  {
   "cell_type": "markdown",
   "metadata": {},
   "source": [
    "### Magic commands\n",
    "- IPython’s special commands (which are not built into Python itself) are known as “magic” commands\n",
    "- automagic: the feature that allows Magic functions to be used by default without the percent sign, as long as no variable is defined with the same name as the magic function in question\n",
    "\n",
    "- magics mentioned in book\n",
    "    - %load, %run script.py\n",
    "    - %pwd, %hist\n",
    "    - %time, %timeit\n",
    "    - %automagic\n",
    "    - %page OBJECT\n",
    "    - %pdb\n",
    "    - %quickref, %magic\n",
    "    - %xdel variable, %reset\n",
    "    - %paste, %cpaste"
   ]
  },
  {
   "cell_type": "markdown",
   "metadata": {},
   "source": [
    "**I. %load magic**"
   ]
  },
  {
   "cell_type": "code",
   "execution_count": 22,
   "metadata": {},
   "outputs": [],
   "source": [
    "# %load ipython_script_test.py\n",
    "def f(x, y, z):\n",
    "    return (x + y) / z\n",
    "\n",
    "a = 5\n",
    "b = 6\n",
    "c = 7.5\n",
    "result = f(a, b, c)"
   ]
  },
  {
   "cell_type": "code",
   "execution_count": 23,
   "metadata": {},
   "outputs": [
    {
     "data": {
      "text/plain": [
       "1.0"
      ]
     },
     "execution_count": 23,
     "metadata": {},
     "output_type": "execute_result"
    }
   ],
   "source": [
    "f(1,2,3)"
   ]
  },
  {
   "cell_type": "code",
   "execution_count": 24,
   "metadata": {},
   "outputs": [
    {
     "name": "stderr",
     "output_type": "stream",
     "text": [
      "UsageError: Line magic function `%paste` not found.\n"
     ]
    }
   ],
   "source": [
    "# This magic ==> %paste <== does not work on Jupyter notebook "
   ]
  },
  {
   "cell_type": "markdown",
   "metadata": {},
   "source": [
    "**II. %pwd magic**"
   ]
  },
  {
   "cell_type": "code",
   "execution_count": 27,
   "metadata": {},
   "outputs": [],
   "source": [
    "# %pwd \n",
    "# This magic outputs the path working directory"
   ]
  },
  {
   "cell_type": "markdown",
   "metadata": {},
   "source": [
    "**III. %timeit magic***"
   ]
  },
  {
   "cell_type": "code",
   "execution_count": 18,
   "metadata": {},
   "outputs": [
    {
     "name": "stdout",
     "output_type": "stream",
     "text": [
      "30.4 µs ± 3.36 µs per loop (mean ± std. dev. of 7 runs, 10000 loops each)\n"
     ]
    }
   ],
   "source": [
    "import numpy as np\n",
    "a = np.random.randn(100, 100)\n",
    "\n",
    "%timeit np.dot(a,a)"
   ]
  },
  {
   "cell_type": "markdown",
   "metadata": {},
   "source": [
    "IV. %debug?  <span style=\"color:red\"> research on this</span>"
   ]
  },
  {
   "cell_type": "code",
   "execution_count": 32,
   "metadata": {},
   "outputs": [
    {
     "name": "stdout",
     "output_type": "stream",
     "text": [
      "a\t add_numbers\t b\t c\t f\t np\t result\t x\t \n"
     ]
    }
   ],
   "source": [
    "%who"
   ]
  },
  {
   "cell_type": "code",
   "execution_count": 33,
   "metadata": {},
   "outputs": [
    {
     "data": {
      "text/plain": [
       "['a', 'add_numbers', 'b', 'c', 'f', 'np', 'result', 'x']"
      ]
     },
     "execution_count": 33,
     "metadata": {},
     "output_type": "execute_result"
    }
   ],
   "source": [
    "%who_ls"
   ]
  },
  {
   "cell_type": "code",
   "execution_count": 34,
   "metadata": {},
   "outputs": [
    {
     "name": "stdout",
     "output_type": "stream",
     "text": [
      "Variable      Type        Data/Info\n",
      "-----------------------------------\n",
      "a             int         5\n",
      "add_numbers   function    <function add_numbers at 0x00000270852282F0>\n",
      "b             int         6\n",
      "c             float       7.5\n",
      "f             function    <function f at 0x0000027084D2E730>\n",
      "np            module      <module 'numpy' from 'C:\\<...>ges\\\\numpy\\\\__init__.py'>\n",
      "result        float       1.4666666666666666\n",
      "x             int         5\n"
     ]
    }
   ],
   "source": [
    "%whos"
   ]
  },
  {
   "cell_type": "code",
   "execution_count": 35,
   "metadata": {},
   "outputs": [
    {
     "name": "stdout",
     "output_type": "stream",
     "text": [
      "def add_numbers(a, b):\n",
      "\"\"\"\n",
      "Add two numbers together\n",
      "Returns\n",
      "-------\n",
      "the_sum : type of arguments\n",
      "\"\"\"\n",
      "return a + b\n",
      "def add_numbers(a, b):\n",
      "    \"\"\"\n",
      "    Add two numbers together\n",
      "    Returns\n",
      "    -------\n",
      "    the_sum : type of arguments\n",
      "    \"\"\"\n",
      "    return a + b\n",
      "def add_numbers(a, b):\n",
      "    \"\"\"\n",
      "    Add two numbers together\n",
      "    Returns\n",
      "    -------\n",
      "    the_sum : type of arguments\n",
      "    \"\"\"\n",
      "    return a + b\n",
      "add_numbers?\n",
      "print(add_numbers?)\n",
      "add_numbers\n",
      "add_numbers?\n",
      "%load ipython_script_test.py\n",
      "a + b\n",
      "%load ipython_script_test.py\n",
      "a + b\n",
      "%load ipython_script_test.py\n",
      "f(1,2)\n",
      "%load ipython_script_test.py\n",
      "%load ipython_script_test.py\n",
      "%paste\n",
      "%pwd\n",
      "import numpy as np\n",
      "a = np.random.randn(100, 100)\n",
      "\n",
      "%timeit np.dot(a,a)\n",
      "f(1,2,3)\n",
      "def add_numbers(a, b):\n",
      "    \"\"\"\n",
      "    Add two numbers together\n",
      "    Returns\n",
      "    -------\n",
      "    the_sum : type of arguments\n",
      "    \"\"\"\n",
      "    return a + b\n",
      "add_numbers?\n",
      "# %load ipython_script_test.py\n",
      "def f(x, y, z):\n",
      "    return (x + y) / z\n",
      "\n",
      "a = 5\n",
      "b = 6\n",
      "c = 7.5\n",
      "result = f(a, b, c)\n",
      "f(1,2,3)\n",
      "%paste\n",
      "%pwd\n",
      "x\n",
      "x = 5\n",
      "### Magic commands\n",
      "- IPython’s special commands (which are not built into Python itself) are known as “magic” commands\n",
      "**II. Trial of %pwd**\n",
      "%debug?\n",
      "%page a\n",
      "%who\n",
      "%who_ls\n",
      "%whos\n",
      "%hist\n"
     ]
    }
   ],
   "source": [
    "%hist"
   ]
  },
  {
   "cell_type": "markdown",
   "metadata": {},
   "source": [
    "### %matplotlib inline \n",
    "- magic for Jupyter (just %matplotlib in Ipython)\n",
    "- configures its integration with the IPython shell or Jupyter notebook. \n",
    "- This is important, as otherwise plots you create will either \n",
    "    - (1) not appear (notebook) or \n",
    "    - (2) take control of the session until closed (shell).\n",
    "- In the IPython shell, running %matplotlib sets up the integration so you can create multiple plot windows without interfering with the console session:\n",
    "\n"
   ]
  },
  {
   "cell_type": "code",
   "execution_count": 36,
   "metadata": {},
   "outputs": [],
   "source": [
    "%matplotlib inline"
   ]
  },
  {
   "cell_type": "code",
   "execution_count": 37,
   "metadata": {},
   "outputs": [
    {
     "data": {
      "text/plain": [
       "[<matplotlib.lines.Line2D at 0x270857fa550>]"
      ]
     },
     "execution_count": 37,
     "metadata": {},
     "output_type": "execute_result"
    },
    {
     "data": {
      "image/png": "[encoded data removed]",
      "text/plain": [
       "<matplotlib.figure.Figure at 0x27085fbc1d0>"
      ]
     },
     "metadata": {},
     "output_type": "display_data"
    }
   ],
   "source": [
    "import matplotlib.pyplot as plt\n",
    "plt.plot(np.random.randn(50).cumsum())"
   ]
  },
  {
   "cell_type": "code",
   "execution_count": 38,
   "metadata": {},
   "outputs": [],
   "source": [
    "np.random.randn?"
   ]
  },
  {
   "cell_type": "markdown",
   "metadata": {},
   "source": [
    "## More on Python notes\n",
    "- emphasis on (1) readability, (2) simplicity, and (3) explicitness\n",
    "- \"executable pseudocode\"\n",
    "- replace tabs with four spaces (standard adopted by the vast majority of Python programmers)\n",
    "- semicolons can be used to separate multiple statements on a single line\n",
    "- Everything is an object\n",
    "    - each object has an (1) associated type(ex. string, func)  and (2) internal data\n",
    "- Almost every object in Python has attached functions, known as **methods**\n",
    "    - obj.some_method(x,y,z)\n",
    "- Functions can take both positional and keyword arguments/parameters\n",
    "    - result = f(a, b, c, d=5, e='foo')"
   ]
  },
  {
   "cell_type": "markdown",
   "metadata": {},
   "source": [
    "Variables and argument passing\n",
    "---\n",
    "When assigning a variable (or name) in Python, you are creating a reference to the object on the righthand side of the equals sign.\n",
    "\n",
    "example below:"
   ]
  },
  {
   "cell_type": "code",
   "execution_count": 40,
   "metadata": {},
   "outputs": [
    {
     "data": {
      "text/plain": [
       "[1, 2, 3, 4]"
      ]
     },
     "execution_count": 40,
     "metadata": {},
     "output_type": "execute_result"
    }
   ],
   "source": [
    "#a = [1,2,3]\n",
    "b = a\n",
    "a.append(4)\n",
    "b"
   ]
  },
  {
   "cell_type": "markdown",
   "metadata": {},
   "source": [
    "Extra note:\n",
    "\n",
    "Assignment is also referred to as **binding**, as we are binding a name\n",
    "to an object. Variable names that have been assigned may occasionally\n",
    "be referred to as **bound variables.**"
   ]
  },
  {
   "cell_type": "code",
   "execution_count": 41,
   "metadata": {},
   "outputs": [
    {
     "data": {
      "text/plain": [
       "[1, 2, 3, 4]"
      ]
     },
     "execution_count": 41,
     "metadata": {},
     "output_type": "execute_result"
    }
   ],
   "source": [
    "def append_element(some_list, element):\n",
    "    some_list.append(element)\n",
    "    \n",
    "data = [1,2,3]\n",
    "append_element(data,4)\n",
    "data"
   ]
  },
  {
   "cell_type": "markdown",
   "metadata": {},
   "source": [
    "## Dynamic references, strong types\n",
    "- object references in Python have no type associated with them"
   ]
  },
  {
   "cell_type": "markdown",
   "metadata": {},
   "source": [
    "- Python is considered a strongly typed language, which means that every object has a specific type (or class), and implicit conversions will occur only in certain obvious circumstances, such as the following:"
   ]
  },
  {
   "cell_type": "code",
   "execution_count": 43,
   "metadata": {},
   "outputs": [
    {
     "name": "stdout",
     "output_type": "stream",
     "text": [
      "a is <class 'float'>, b is <class 'int'>\n"
     ]
    }
   ],
   "source": [
    "a = 4.5\n",
    "b = 2\n",
    "\n",
    "#String formatting\n",
    "print('a is {0}, b is {1}'.format(type(a), type(b)))\n"
   ]
  },
  {
   "cell_type": "code",
   "execution_count": 44,
   "metadata": {},
   "outputs": [
    {
     "data": {
      "text/plain": [
       "2.25"
      ]
     },
     "execution_count": 44,
     "metadata": {},
     "output_type": "execute_result"
    }
   ],
   "source": [
    "a/b"
   ]
  },
  {
   "cell_type": "code",
   "execution_count": null,
   "metadata": {},
   "outputs": [],
   "source": []
  }
 ],
 "metadata": {
  "kernelspec": {
   "display_name": "Python 3",
   "language": "python",
   "name": "python3"
  },
  "language_info": {
   "codemirror_mode": {
    "name": "ipython",
    "version": 3
   },
   "file_extension": ".py",
   "mimetype": "text/x-python",
   "name": "python",
   "nbconvert_exporter": "python",
   "pygments_lexer": "ipython3",
   "version": "3.6.4"
  }
 },
 "nbformat": 4,
 "nbformat_minor": 2
}
